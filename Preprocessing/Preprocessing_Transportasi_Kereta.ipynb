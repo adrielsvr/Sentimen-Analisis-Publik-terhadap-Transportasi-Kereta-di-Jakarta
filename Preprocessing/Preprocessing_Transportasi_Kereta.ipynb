{
  "nbformat": 4,
  "nbformat_minor": 0,
  "metadata": {
    "colab": {
      "provenance": [],
      "authorship_tag": "ABX9TyMm7Z6rLjb+ZIXlQ6j/gLi6",
      "include_colab_link": true
    },
    "kernelspec": {
      "name": "python3",
      "display_name": "Python 3"
    },
    "language_info": {
      "name": "python"
    }
  },
  "cells": [
    {
      "cell_type": "markdown",
      "metadata": {
        "id": "view-in-github",
        "colab_type": "text"
      },
      "source": [
        "<a href=\"https://colab.research.google.com/github/adrielsvr/Sentimen-Analisis-Publik-terhadap-Transportasi-Kereta-di-Jakarta/blob/main/Preprocessing/Preprocessing_Transportasi_Kereta.ipynb\" target=\"_parent\"><img src=\"https://colab.research.google.com/assets/colab-badge.svg\" alt=\"Open In Colab\"/></a>"
      ]
    },
    {
      "cell_type": "code",
      "execution_count": 1,
      "metadata": {
        "colab": {
          "base_uri": "https://localhost:8080/"
        },
        "id": "mPlMu5TJZrQ9",
        "outputId": "fbedd870-1de1-45a6-fa64-4c9d5fe5c394"
      },
      "outputs": [
        {
          "output_type": "stream",
          "name": "stdout",
          "text": [
            "Requirement already satisfied: nltk in /usr/local/lib/python3.10/dist-packages (3.9.1)\n",
            "Requirement already satisfied: click in /usr/local/lib/python3.10/dist-packages (from nltk) (8.1.7)\n",
            "Requirement already satisfied: joblib in /usr/local/lib/python3.10/dist-packages (from nltk) (1.4.2)\n",
            "Requirement already satisfied: regex>=2021.8.3 in /usr/local/lib/python3.10/dist-packages (from nltk) (2024.9.11)\n",
            "Requirement already satisfied: tqdm in /usr/local/lib/python3.10/dist-packages (from nltk) (4.66.6)\n",
            "Collecting sastrawi\n",
            "  Downloading Sastrawi-1.0.1-py2.py3-none-any.whl.metadata (909 bytes)\n",
            "Downloading Sastrawi-1.0.1-py2.py3-none-any.whl (209 kB)\n",
            "\u001b[2K   \u001b[90m━━━━━━━━━━━━━━━━━━━━━━━━━━━━━━━━━━━━━━━━\u001b[0m \u001b[32m209.7/209.7 kB\u001b[0m \u001b[31m4.6 MB/s\u001b[0m eta \u001b[36m0:00:00\u001b[0m\n",
            "\u001b[?25hInstalling collected packages: sastrawi\n",
            "Successfully installed sastrawi-1.0.1\n",
            "Requirement already satisfied: tqdm in /usr/local/lib/python3.10/dist-packages (4.66.6)\n"
          ]
        }
      ],
      "source": [
        "# Instalasi library yang dibutuhkan\n",
        "!pip install nltk\n",
        "!pip install sastrawi\n",
        "!pip install tqdm"
      ]
    },
    {
      "cell_type": "code",
      "source": [
        "import pandas as pd\n",
        "import numpy as np\n",
        "import nltk\n",
        "import re\n",
        "from google.colab import drive\n",
        "import requests\n",
        "drive.mount('/content/drive')"
      ],
      "metadata": {
        "colab": {
          "base_uri": "https://localhost:8080/"
        },
        "id": "7NvfmX9UZuiB",
        "outputId": "d6f80938-bf94-442e-975b-4003eaba7579"
      },
      "execution_count": 2,
      "outputs": [
        {
          "output_type": "stream",
          "name": "stdout",
          "text": [
            "Mounted at /content/drive\n"
          ]
        }
      ]
    },
    {
      "cell_type": "code",
      "source": [
        "# Load dataset twitter mengenai KRL, MRT dan LRT\n",
        "load_krl= pd.read_excel('/content/drive/MyDrive/Tugas Akhir/Dataset Twitter/Dataset/Data_KRL23.xlsx')\n",
        "load_mrt = pd.read_excel('/content/drive/MyDrive/Tugas Akhir/Dataset Twitter/Dataset/Data_MRT23.xlsx')\n",
        "load_lrt = pd.read_excel('/content/drive/MyDrive/Tugas Akhir/Dataset Twitter/Dataset/Data_LRT23.xlsx')\n",
        "\n",
        "data_krl = pd.DataFrame(load_krl['full_text'])\n",
        "data_mrt = pd.DataFrame(load_mrt['full_text'])\n",
        "data_lrt = pd.DataFrame(load_lrt['full_text'])\n",
        "\n",
        "print(data_lrt.head())\n",
        "print(data_mrt.head())\n",
        "print(data_krl.head())"
      ],
      "metadata": {
        "colab": {
          "base_uri": "https://localhost:8080/"
        },
        "id": "4lVHrmhgaCMA",
        "outputId": "e43ebb29-f83b-4180-c30c-f3d21d3e288f"
      },
      "execution_count": 3,
      "outputs": [
        {
          "output_type": "stream",
          "name": "stdout",
          "text": [
            "                                           full_text\n",
            "0  LRT Jabodebek siap mengatasi kemacetan. Yuk ce...\n",
            "1  Dewi Perssik Sebut Nikita Mirzani Jualan Apem ...\n",
            "2  Viral Rok Model Melorot, Rachel Vennya Tampil ...\n",
            "3  Kebangun abis mimpi naik LRT jakarta nyampe di...\n",
            "4  Saat @erickthohir mendampingi presiden Jokowi ...\n",
            "                                           full_text\n",
            "0  Ada Perubahan Jadwal Operasional MRT Jakarta S...\n",
            "1  @UGM_FESS 4. Lebih bagus lagi kalo bisa pelaja...\n",
            "2  https://t.co/qCPONlISDS Bali needs airport tra...\n",
            "3  @WatchmenID Terlalu fokus dengan perang, bom d...\n",
            "4  siapa disini yg cita-cita nya strolling arroun...\n",
            "                                           full_text\n",
            "0  @miaetsumi Hai, Kak. Untuk kartu KRL Commuter ...\n",
            "1  Keujanan di Bogor, menggigil selama di KRL, pa...\n",
            "2  @tanyarlfes Karena aku bkn orang jakarta, tiap...\n",
            "3  @adriansyahyasin Justru di hari lebaran itu KR...\n",
            "4  @JakartaAwayDay Udah gak ada ruang lagi ah di ...\n"
          ]
        }
      ]
    },
    {
      "cell_type": "code",
      "source": [
        "# Mendefenisikan fungsi untuk cleaning & case folding\n",
        "def clean_text(text):\n",
        "    # Menghapus mention\n",
        "    text = re.sub(r\"@\\w+\", \"\", text)\n",
        "    # Menghapus karakter khusus\n",
        "    text = re.sub(r\"[^\\w\\s]\", \"\", text)\n",
        "    # Menghapus semua karakter non-word\n",
        "    text = re.sub(r'\\W', ' ', text)\n",
        "    # Menghapus tautan\n",
        "    text = re.sub(r\"http\\S+|www\\S+|https\\S+\", \"\", text)\n",
        "    # Menghapus hashtag\n",
        "    text = re.sub(r\"#\\w+\", \"\", text)\n",
        "    # Menghapus emoji\n",
        "    emoji_pattern = re.compile(\"[\"\n",
        "                               u\"\\U0001F600-\\U0001F64F\"  # Emoticons\n",
        "                               u\"\\U0001F300-\\U0001F5FF\"  # Simbol & Tanda\n",
        "                               u\"\\U0001F680-\\U0001F6FF\"  # Transportasi & Simbol Transportasi\n",
        "                               u\"\\U0001F1E0-\\U0001F1FF\"  # Bendera\n",
        "                               u\"\\U00002500-\\U00002BEF\"  # Simbol & Karakter Aksara CJK\n",
        "                               u\"\\U00002702-\\U000027B0\"  # Simbol, Tanda, & Karakter Aksara Dingbat\n",
        "                               u\"\\U000024C2-\\U0001F251\"\n",
        "                               \"]+\", flags=re.UNICODE)\n",
        "    text = emoji_pattern.sub(r'', text)\n",
        "    # Menghapus whitespace tambahan\n",
        "    text = re.sub(r\"\\s+\", \" \", text)\n",
        "    # Menghapus angka\n",
        "    text = re.sub(r\"\\d+\", \"\", text)\n",
        "    # Menormalisasi huruf kecil\n",
        "    text = text.lower()\n",
        "\n",
        "    return text\n",
        "\n",
        "# Mengimplementasikan fungsi clean_text ke dataset\n",
        "data_krl['clean_text'] = data_krl['full_text'].apply(clean_text)\n",
        "data_mrt['clean_text'] = data_mrt['full_text'].apply(clean_text)\n",
        "data_lrt['clean_text'] = data_lrt['full_text'].apply(clean_text)\n",
        "\n",
        "# Menampilkan hasil dataset clean_text\n",
        "print(f\"DATA KRL \\n {data_krl.head()}\\n\")\n",
        "print(f\"DATA MRT \\n {data_mrt.head()}\\n\")\n",
        "print(f\"DATA LRT \\n {data_lrt.head()}\")"
      ],
      "metadata": {
        "colab": {
          "base_uri": "https://localhost:8080/"
        },
        "id": "-BMrzq6SG6Yv",
        "outputId": "909c6916-24f1-4ab2-d5e2-b1a2acd57d5d"
      },
      "execution_count": 4,
      "outputs": [
        {
          "output_type": "stream",
          "name": "stdout",
          "text": [
            "DATA KRL \n",
            "                                            full_text  \\\n",
            "0  @miaetsumi Hai, Kak. Untuk kartu KRL Commuter ...   \n",
            "1  Keujanan di Bogor, menggigil selama di KRL, pa...   \n",
            "2  @tanyarlfes Karena aku bkn orang jakarta, tiap...   \n",
            "3  @adriansyahyasin Justru di hari lebaran itu KR...   \n",
            "4  @JakartaAwayDay Udah gak ada ruang lagi ah di ...   \n",
            "\n",
            "                                          clean_text  \n",
            "0   hai kak untuk kartu krl commuter line dapat d...  \n",
            "1  keujanan di bogor menggigil selama di krl pas ...  \n",
            "2   karena aku bkn orang jakarta tiap kesana seru...  \n",
            "3   justru di hari lebaran itu krl sepi karena ja...  \n",
            "4   udah gak ada ruang lagi ah di jakarta mah rib...  \n",
            "\n",
            "DATA MRT \n",
            "                                            full_text  \\\n",
            "0  Ada Perubahan Jadwal Operasional MRT Jakarta S...   \n",
            "1  @UGM_FESS 4. Lebih bagus lagi kalo bisa pelaja...   \n",
            "2  https://t.co/qCPONlISDS Bali needs airport tra...   \n",
            "3  @WatchmenID Terlalu fokus dengan perang, bom d...   \n",
            "4  siapa disini yg cita-cita nya strolling arroun...   \n",
            "\n",
            "                                          clean_text  \n",
            "0  ada perubahan jadwal operasional mrt jakarta s...  \n",
            "1    lebih bagus lagi kalo bisa pelajari halte yg...  \n",
            "2                          bali needs airport train   \n",
            "3   terlalu fokus dengan perang bom dan aksi laga...  \n",
            "4  siapa disini yg citacita nya strolling arround...  \n",
            "\n",
            "DATA LRT \n",
            "                                            full_text  \\\n",
            "0  LRT Jabodebek siap mengatasi kemacetan. Yuk ce...   \n",
            "1  Dewi Perssik Sebut Nikita Mirzani Jualan Apem ...   \n",
            "2  Viral Rok Model Melorot, Rachel Vennya Tampil ...   \n",
            "3  Kebangun abis mimpi naik LRT jakarta nyampe di...   \n",
            "4  Saat @erickthohir mendampingi presiden Jokowi ...   \n",
            "\n",
            "                                          clean_text  \n",
            "0  lrt jabodebek siap mengatasi kemacetan yuk cek...  \n",
            "1  dewi perssik sebut nikita mirzani jualan apem ...  \n",
            "2  viral rok model melorot rachel vennya tampil b...  \n",
            "3  kebangun abis mimpi naik lrt jakarta nyampe di...  \n",
            "4  saat mendampingi presiden jokowi dalam meresmi...  \n"
          ]
        }
      ]
    },
    {
      "cell_type": "code",
      "source": [
        "# Melakukan tokenisasi\n",
        "import nltk\n",
        "from nltk.tokenize import word_tokenize\n",
        "nltk.download('punkt')\n",
        "nltk.download('punkt_tab')"
      ],
      "metadata": {
        "colab": {
          "base_uri": "https://localhost:8080/"
        },
        "id": "6sRF-UoilBMO",
        "outputId": "14e54377-56bb-4d65-a37b-4aba2daebff5"
      },
      "execution_count": 28,
      "outputs": [
        {
          "output_type": "stream",
          "name": "stderr",
          "text": [
            "[nltk_data] Downloading package punkt to /root/nltk_data...\n",
            "[nltk_data]   Package punkt is already up-to-date!\n",
            "[nltk_data] Downloading package punkt_tab to /root/nltk_data...\n",
            "[nltk_data]   Unzipping tokenizers/punkt_tab.zip.\n"
          ]
        },
        {
          "output_type": "execute_result",
          "data": {
            "text/plain": [
              "True"
            ]
          },
          "metadata": {},
          "execution_count": 28
        }
      ]
    },
    {
      "cell_type": "code",
      "source": [
        "# Mendefenisikan fungsi tokenisasi\n",
        "def word_tokenize(text):\n",
        "  text = nltk.word_tokenize(text)\n",
        "  return text"
      ],
      "metadata": {
        "id": "wLjBm4eXlLHI"
      },
      "execution_count": 29,
      "outputs": []
    },
    {
      "cell_type": "code",
      "source": [
        "# Mengimplementasikan fungsi tokenisasi ke dataset\n",
        "data_krl['tokenized_text'] = data_krl['clean_text'].apply(word_tokenize)\n",
        "data_mrt['tokenized_text'] = data_mrt['clean_text'].apply(word_tokenize)\n",
        "data_lrt['tokenized_text'] = data_lrt['clean_text'].apply(word_tokenize)\n",
        "\n",
        "# Menampilkan hasil dataset tokenized_text\n",
        "print(f\"DATA KRL \\n {data_krl[['clean_text', 'tokenized_text']].head()}\\n\")\n",
        "print(f\"DATA MRT \\n {data_mrt[['clean_text', 'tokenized_text']].head()}\\n\")\n",
        "print(f\"DATA LRT \\n {data_lrt[['clean_text', 'tokenized_text']].head()}\")"
      ],
      "metadata": {
        "colab": {
          "base_uri": "https://localhost:8080/"
        },
        "id": "EBGvzJGqHVtV",
        "outputId": "1549b48d-27f4-463e-c758-4477ed4acd69"
      },
      "execution_count": 30,
      "outputs": [
        {
          "output_type": "stream",
          "name": "stdout",
          "text": [
            "DATA KRL \n",
            "                                           clean_text  \\\n",
            "0   hai kak untuk kartu krl commuter line dapat d...   \n",
            "1  keujanan di bogor menggigil selama di krl pas ...   \n",
            "2   karena aku bkn orang jakarta tiap kesana seru...   \n",
            "3   justru di hari lebaran itu krl sepi karena ja...   \n",
            "4   udah gak ada ruang lagi ah di jakarta mah rib...   \n",
            "\n",
            "                                      tokenized_text  \n",
            "0  [hai, kak, untuk, kartu, krl, commuter, line, ...  \n",
            "1  [keujanan, di, bogor, menggigil, selama, di, k...  \n",
            "2  [karena, aku, bkn, orang, jakarta, tiap, kesan...  \n",
            "3  [justru, di, hari, lebaran, itu, krl, sepi, ka...  \n",
            "4  [udah, gak, ada, ruang, lagi, ah, di, jakarta,...  \n",
            "\n",
            "DATA MRT \n",
            "                                           clean_text  \\\n",
            "0  ada perubahan jadwal operasional mrt jakarta s...   \n",
            "1    lebih bagus lagi kalo bisa pelajari halte yg...   \n",
            "2                          bali needs airport train    \n",
            "3   terlalu fokus dengan perang bom dan aksi laga...   \n",
            "4  siapa disini yg citacita nya strolling arround...   \n",
            "\n",
            "                                      tokenized_text  \n",
            "0  [ada, perubahan, jadwal, operasional, mrt, jak...  \n",
            "1  [lebih, bagus, lagi, kalo, bisa, pelajari, hal...  \n",
            "2                      [bali, needs, airport, train]  \n",
            "3  [terlalu, fokus, dengan, perang, bom, dan, aks...  \n",
            "4  [siapa, disini, yg, citacita, nya, strolling, ...  \n",
            "\n",
            "DATA LRT \n",
            "                                           clean_text  \\\n",
            "0  lrt jabodebek siap mengatasi kemacetan yuk cek...   \n",
            "1  dewi perssik sebut nikita mirzani jualan apem ...   \n",
            "2  viral rok model melorot rachel vennya tampil b...   \n",
            "3  kebangun abis mimpi naik lrt jakarta nyampe di...   \n",
            "4  saat mendampingi presiden jokowi dalam meresmi...   \n",
            "\n",
            "                                      tokenized_text  \n",
            "0  [lrt, jabodebek, siap, mengatasi, kemacetan, y...  \n",
            "1  [dewi, perssik, sebut, nikita, mirzani, jualan...  \n",
            "2  [viral, rok, model, melorot, rachel, vennya, t...  \n",
            "3  [kebangun, abis, mimpi, naik, lrt, jakarta, ny...  \n",
            "4  [saat, mendampingi, presiden, jokowi, dalam, m...  \n"
          ]
        }
      ]
    },
    {
      "cell_type": "code",
      "source": [
        "url_slang = 'https://raw.githubusercontent.com/adeariniputri/text-preprocesing/master/slang.csv'\n",
        "slang = pd.read_csv(url_slang)\n",
        "kata_benar = {\n",
        "    \"keujanan\": \"kehujanan\", \"kesana\": \"ke sana\", \"anget\": \"hangat\", \"bkn\": \"bukan\", \"gitu\": \"begitu\", \"gaada\": \"tidak ada\",\n",
        "    \"bareng\": \"bersama\", \"dipotongpotong\": \"potong\", \"kayak\": \"seperti\", \"moga\": \"semoga\", \"tiap\": \"setiap\", \"pureblood\": \"darah murni\",\n",
        "    \"rmh\": \"rumah\", \"gaakan\": \"tidak akan\", \"jalanyangjauhjanganlupapulang\": \"jalan yang jauh jangan lupa pulang\",\n",
        "    \"sunscreen\": \"tabir surya\", \"perhatiin\": \"perhati\", \"saranin\": \"saran\", \"datengin\": \"datang\", \"nyari\": \"cari\", \"cobain\": \"coba\",\n",
        "    \"temanteman\": \"teman\", \"nyampe\": \"sampai\", \"balik\": \"kembali\", \"edition\": \"edisi\", \"dislike\": \"tidak suka\", \"overrated\": \"tinggi\",\n",
        "    \"still\": \"masih\", \"visit\": \"kunjung\", \"gin\": \"gini\", \"gamau\": \"tidak mau\", \"desekan\": \"desak\", \"cm\": \"cuma\", \"ojol\": \"ojek online\",\n",
        "    \"stressnya\": \"stres\", \"info\": \"informasi\", \"rb\": \"ribu\", \"rela\": \"rela\", \"beritaterkini\": \"berita terkini\", \"mutualan\": \"mutual\",\n",
        "    \"bukabukaan\": \"buka\", \"nyampe\": \"sampai\", \"ngandelin\": \"andal\", \"mesti\": \"harus\", \"deket\": \"dekat\", \"nyobain\": \"coba\", \"slain\": \"selain\",\n",
        "    \"made\": \"buatan\", \"railway\": \"rel kereta\", \"knapa\": \"kenapa\", \"covering\": \"liput\", \"expanse\": \"luas\", \"endeavors\": \"upaya\",\n",
        "    \"foster\": \"mendorong\", \"traffic\": \"lalu lintas\", \"pollution\": \"polusi\", \"transforming\": \"ubah\", \"system\": \"sistem\", \"tackle\": \"mengatasi\",\n",
        "    \"formally\": \"resmi\", \"introduced\": \"kenal\", \"greater\": \"lebih besar\", \"light\": \"ringan\", \"rail\": \"rel\", \"aimed\": \"tuju\", \"countering\": \"lawan\",\n",
        "    \"congestion\": \"macet\", \"environmental\": \"lingkungan\", \"ngelihat\": \"lihat\", \"rangkainnya\": \"rangkai\", \"berpindahpindah\": \"pindah\",\n",
        "    \"tarifintegrasi\": \"tarif integrasi\", \"gede\": \"besar\", \"kenceng\": \"kencang\", \"pekerjamigranterlindungi\": \"pekerja migran terlindungi\",\n",
        "    \"aniesberjuang\": \"Anies berjuang\", \"pakeajadulu\": \"pakai saja dulu\", \"cs\": \"customer service\"\n",
        "}\n",
        "\n",
        "slang_dict = dict(zip(slang['slang'], slang['formal']))\n",
        "slang_dict.update(kata_benar)\n",
        "\n",
        "def normalize_text(tokens):\n",
        "    normalized_tokens = [slang_dict.get(word, word) for word in tokens]\n",
        "    return normalized_tokens\n",
        "\n",
        "data_krl['normalisasi'] = data_krl['tokenized_text'].apply(lambda x: normalize_text(x))\n",
        "data_mrt['normalisasi'] = data_mrt['tokenized_text'].apply(lambda x: normalize_text(x))\n",
        "data_lrt['normalisasi'] = data_lrt['tokenized_text'].apply(lambda x: normalize_text(x))\n",
        "\n",
        "print(f\"DATA KRL \\n {data_krl.head()}\\n\")\n",
        "print(f\"DATA MRT \\n {data_mrt.head()}\\n\")\n",
        "print(f\"DATA LRT \\n {data_lrt.head()}\")"
      ],
      "metadata": {
        "colab": {
          "base_uri": "https://localhost:8080/"
        },
        "id": "E5-oBmfBymjw",
        "outputId": "16874192-939b-4f4a-8ec1-01e21c4d1cd4"
      },
      "execution_count": 31,
      "outputs": [
        {
          "output_type": "stream",
          "name": "stdout",
          "text": [
            "DATA KRL \n",
            "                                            full_text  \\\n",
            "0  @miaetsumi Hai, Kak. Untuk kartu KRL Commuter ...   \n",
            "1  Keujanan di Bogor, menggigil selama di KRL, pa...   \n",
            "2  @tanyarlfes Karena aku bkn orang jakarta, tiap...   \n",
            "3  @adriansyahyasin Justru di hari lebaran itu KR...   \n",
            "4  @JakartaAwayDay Udah gak ada ruang lagi ah di ...   \n",
            "\n",
            "                                          clean_text  \\\n",
            "0   hai kak untuk kartu krl commuter line dapat d...   \n",
            "1  keujanan di bogor menggigil selama di krl pas ...   \n",
            "2   karena aku bkn orang jakarta tiap kesana seru...   \n",
            "3   justru di hari lebaran itu krl sepi karena ja...   \n",
            "4   udah gak ada ruang lagi ah di jakarta mah rib...   \n",
            "\n",
            "                                      tokenized_text  \\\n",
            "0  [hai, kak, untuk, kartu, krl, commuter, line, ...   \n",
            "1  [keujanan, di, bogor, menggigil, selama, di, k...   \n",
            "2  [karena, aku, bkn, orang, jakarta, tiap, kesan...   \n",
            "3  [justru, di, hari, lebaran, itu, krl, sepi, ka...   \n",
            "4  [udah, gak, ada, ruang, lagi, ah, di, jakarta,...   \n",
            "\n",
            "                                         normalisasi  \n",
            "0  [hai, kakak, untuk, kartu, krl, commuter, line...  \n",
            "1  [kehujanan, di, bogor, menggigil, selama, di, ...  \n",
            "2  [karena, aku, bukan, orang, jakarta, setiap, k...  \n",
            "3  [justru, di, hari, lebaran, itu, krl, sepi, ka...  \n",
            "4  [sudah, tidak, ada, ruang, lagi, ah, di, jakar...  \n",
            "\n",
            "DATA MRT \n",
            "                                            full_text  \\\n",
            "0  Ada Perubahan Jadwal Operasional MRT Jakarta S...   \n",
            "1  @UGM_FESS 4. Lebih bagus lagi kalo bisa pelaja...   \n",
            "2  https://t.co/qCPONlISDS Bali needs airport tra...   \n",
            "3  @WatchmenID Terlalu fokus dengan perang, bom d...   \n",
            "4  siapa disini yg cita-cita nya strolling arroun...   \n",
            "\n",
            "                                          clean_text  \\\n",
            "0  ada perubahan jadwal operasional mrt jakarta s...   \n",
            "1    lebih bagus lagi kalo bisa pelajari halte yg...   \n",
            "2                          bali needs airport train    \n",
            "3   terlalu fokus dengan perang bom dan aksi laga...   \n",
            "4  siapa disini yg citacita nya strolling arround...   \n",
            "\n",
            "                                      tokenized_text  \\\n",
            "0  [ada, perubahan, jadwal, operasional, mrt, jak...   \n",
            "1  [lebih, bagus, lagi, kalo, bisa, pelajari, hal...   \n",
            "2                      [bali, needs, airport, train]   \n",
            "3  [terlalu, fokus, dengan, perang, bom, dan, aks...   \n",
            "4  [siapa, disini, yg, citacita, nya, strolling, ...   \n",
            "\n",
            "                                         normalisasi  \n",
            "0  [ada, perubahan, jadwal, operasional, mrt, jak...  \n",
            "1  [lebih, bagus, lagi, kalau, bisa, pelajari, ha...  \n",
            "2                      [bali, needs, airport, train]  \n",
            "3  [terlalu, fokus, dengan, perang, bom, dan, aks...  \n",
            "4  [siapa, disini, yang, citacita, nya, strolling...  \n",
            "\n",
            "DATA LRT \n",
            "                                            full_text  \\\n",
            "0  LRT Jabodebek siap mengatasi kemacetan. Yuk ce...   \n",
            "1  Dewi Perssik Sebut Nikita Mirzani Jualan Apem ...   \n",
            "2  Viral Rok Model Melorot, Rachel Vennya Tampil ...   \n",
            "3  Kebangun abis mimpi naik LRT jakarta nyampe di...   \n",
            "4  Saat @erickthohir mendampingi presiden Jokowi ...   \n",
            "\n",
            "                                          clean_text  \\\n",
            "0  lrt jabodebek siap mengatasi kemacetan yuk cek...   \n",
            "1  dewi perssik sebut nikita mirzani jualan apem ...   \n",
            "2  viral rok model melorot rachel vennya tampil b...   \n",
            "3  kebangun abis mimpi naik lrt jakarta nyampe di...   \n",
            "4  saat mendampingi presiden jokowi dalam meresmi...   \n",
            "\n",
            "                                      tokenized_text  \\\n",
            "0  [lrt, jabodebek, siap, mengatasi, kemacetan, y...   \n",
            "1  [dewi, perssik, sebut, nikita, mirzani, jualan...   \n",
            "2  [viral, rok, model, melorot, rachel, vennya, t...   \n",
            "3  [kebangun, abis, mimpi, naik, lrt, jakarta, ny...   \n",
            "4  [saat, mendampingi, presiden, jokowi, dalam, m...   \n",
            "\n",
            "                                         normalisasi  \n",
            "0  [lrt, jabodebek, siap, mengatasi, kemacetan, a...  \n",
            "1  [dewi, perssik, sebut, nikita, mirzani, jualan...  \n",
            "2  [viral, rok, model, melorot, rachel, vennya, t...  \n",
            "3  [kebangun, habis, mimpi, naik, lrt, jakarta, s...  \n",
            "4  [saat, mendampingi, presiden, jokowi, dalam, m...  \n"
          ]
        }
      ]
    },
    {
      "cell_type": "code",
      "source": [
        "# Melakukan penghapusan stopwords\n",
        "from Sastrawi.StopWordRemover.StopWordRemoverFactory import StopWordRemoverFactory\n",
        "factory = StopWordRemoverFactory()\n",
        "stopword = factory.get_stop_words()\n",
        "\n",
        "# Mendefenisikan fungsi stopwords removal\n",
        "def stopwords_removal(tokens):\n",
        "  clean_tokens = []\n",
        "  for token in tokens:\n",
        "    if token not in stopword:\n",
        "      clean_tokens.append(token)\n",
        "  return clean_tokens\n",
        "\n",
        "# Mengimplementasikan fungsi stopwords_removal ke dataset\n",
        "data_krl['stopwords_removal'] = data_krl['normalisasi'].apply(stopwords_removal)\n",
        "data_mrt['stopwords_removal'] = data_mrt['normalisasi'].apply(stopwords_removal)\n",
        "data_lrt['stopwords_removal'] = data_lrt['normalisasi'].apply(stopwords_removal)\n",
        "\n",
        "# Menampilkan hasil dataset stopwords_removal\n",
        "print(f\"DATA KRL \\n {data_krl[['normalisasi', 'stopwords_removal']].head()}\\n\")\n",
        "print(f\"DATA MRT \\n {data_mrt[['normalisasi', 'stopwords_removal']].head()}\\n\")\n",
        "print(f\"DATA LRT \\n {data_lrt[['normalisasi', 'stopwords_removal']].head()}\")"
      ],
      "metadata": {
        "colab": {
          "base_uri": "https://localhost:8080/"
        },
        "id": "z6yP5maWHePx",
        "outputId": "ad04cd38-989a-450f-ab62-b5a5ed7e7719"
      },
      "execution_count": 32,
      "outputs": [
        {
          "output_type": "stream",
          "name": "stdout",
          "text": [
            "DATA KRL \n",
            "                                          normalisasi  \\\n",
            "0  [hai, kakak, untuk, kartu, krl, commuter, line...   \n",
            "1  [kehujanan, di, bogor, menggigil, selama, di, ...   \n",
            "2  [karena, aku, bukan, orang, jakarta, setiap, k...   \n",
            "3  [justru, di, hari, lebaran, itu, krl, sepi, ka...   \n",
            "4  [sudah, tidak, ada, ruang, lagi, ah, di, jakar...   \n",
            "\n",
            "                                   stopwords_removal  \n",
            "0  [hai, kakak, kartu, krl, commuter, line, digun...  \n",
            "1  [kehujanan, bogor, menggigil, selama, krl, pas...  \n",
            "2  [aku, bukan, orang, jakarta, ke sana, seru, ka...  \n",
            "3  [justru, hari, lebaran, krl, sepi, jakarta, le...  \n",
            "4  [ruang, ah, jakarta, mah, ribut, tawuran, metr...  \n",
            "\n",
            "DATA MRT \n",
            "                                          normalisasi  \\\n",
            "0  [ada, perubahan, jadwal, operasional, mrt, jak...   \n",
            "1  [lebih, bagus, lagi, kalau, bisa, pelajari, ha...   \n",
            "2                      [bali, needs, airport, train]   \n",
            "3  [terlalu, fokus, dengan, perang, bom, dan, aks...   \n",
            "4  [siapa, disini, yang, citacita, nya, strolling...   \n",
            "\n",
            "                                   stopwords_removal  \n",
            "0  [perubahan, jadwal, operasional, mrt, jakarta,...  \n",
            "1  [lebih, bagus, kalau, pelajari, halte, nyambun...  \n",
            "2                      [bali, needs, airport, train]  \n",
            "3  [terlalu, fokus, perang, bom, aksi, laga, lain...  \n",
            "4  [siapa, disini, citacita, nya, strolling, arro...  \n",
            "\n",
            "DATA LRT \n",
            "                                          normalisasi  \\\n",
            "0  [lrt, jabodebek, siap, mengatasi, kemacetan, a...   \n",
            "1  [dewi, perssik, sebut, nikita, mirzani, jualan...   \n",
            "2  [viral, rok, model, melorot, rachel, vennya, t...   \n",
            "3  [kebangun, habis, mimpi, naik, lrt, jakarta, s...   \n",
            "4  [saat, mendampingi, presiden, jokowi, dalam, m...   \n",
            "\n",
            "                                   stopwords_removal  \n",
            "0  [lrt, jabodebek, siap, mengatasi, kemacetan, a...  \n",
            "1  [dewi, perssik, sebut, nikita, mirzani, jualan...  \n",
            "2  [viral, rok, model, melorot, rachel, vennya, t...  \n",
            "3  [kebangun, habis, mimpi, naik, lrt, jakarta, d...  \n",
            "4  [mendampingi, presiden, jokowi, meresmikan, ke...  \n"
          ]
        }
      ]
    },
    {
      "cell_type": "code",
      "source": [
        "data_krl[['normalisasi', 'stopwords_removal']].head()"
      ],
      "metadata": {
        "colab": {
          "base_uri": "https://localhost:8080/",
          "height": 206
        },
        "id": "H8cNsX4K1gkT",
        "outputId": "d2cd021f-cf08-49b9-9975-62624028b970"
      },
      "execution_count": 33,
      "outputs": [
        {
          "output_type": "execute_result",
          "data": {
            "text/plain": [
              "                                         normalisasi  \\\n",
              "0  [hai, kakak, untuk, kartu, krl, commuter, line...   \n",
              "1  [kehujanan, di, bogor, menggigil, selama, di, ...   \n",
              "2  [karena, aku, bukan, orang, jakarta, setiap, k...   \n",
              "3  [justru, di, hari, lebaran, itu, krl, sepi, ka...   \n",
              "4  [sudah, tidak, ada, ruang, lagi, ah, di, jakar...   \n",
              "\n",
              "                                   stopwords_removal  \n",
              "0  [hai, kakak, kartu, krl, commuter, line, digun...  \n",
              "1  [kehujanan, bogor, menggigil, selama, krl, pas...  \n",
              "2  [aku, bukan, orang, jakarta, ke sana, seru, ka...  \n",
              "3  [justru, hari, lebaran, krl, sepi, jakarta, le...  \n",
              "4  [ruang, ah, jakarta, mah, ribut, tawuran, metr...  "
            ],
            "text/html": [
              "\n",
              "  <div id=\"df-ea647c13-a322-4df8-86e5-da451f3e4bb9\" class=\"colab-df-container\">\n",
              "    <div>\n",
              "<style scoped>\n",
              "    .dataframe tbody tr th:only-of-type {\n",
              "        vertical-align: middle;\n",
              "    }\n",
              "\n",
              "    .dataframe tbody tr th {\n",
              "        vertical-align: top;\n",
              "    }\n",
              "\n",
              "    .dataframe thead th {\n",
              "        text-align: right;\n",
              "    }\n",
              "</style>\n",
              "<table border=\"1\" class=\"dataframe\">\n",
              "  <thead>\n",
              "    <tr style=\"text-align: right;\">\n",
              "      <th></th>\n",
              "      <th>normalisasi</th>\n",
              "      <th>stopwords_removal</th>\n",
              "    </tr>\n",
              "  </thead>\n",
              "  <tbody>\n",
              "    <tr>\n",
              "      <th>0</th>\n",
              "      <td>[hai, kakak, untuk, kartu, krl, commuter, line...</td>\n",
              "      <td>[hai, kakak, kartu, krl, commuter, line, digun...</td>\n",
              "    </tr>\n",
              "    <tr>\n",
              "      <th>1</th>\n",
              "      <td>[kehujanan, di, bogor, menggigil, selama, di, ...</td>\n",
              "      <td>[kehujanan, bogor, menggigil, selama, krl, pas...</td>\n",
              "    </tr>\n",
              "    <tr>\n",
              "      <th>2</th>\n",
              "      <td>[karena, aku, bukan, orang, jakarta, setiap, k...</td>\n",
              "      <td>[aku, bukan, orang, jakarta, ke sana, seru, ka...</td>\n",
              "    </tr>\n",
              "    <tr>\n",
              "      <th>3</th>\n",
              "      <td>[justru, di, hari, lebaran, itu, krl, sepi, ka...</td>\n",
              "      <td>[justru, hari, lebaran, krl, sepi, jakarta, le...</td>\n",
              "    </tr>\n",
              "    <tr>\n",
              "      <th>4</th>\n",
              "      <td>[sudah, tidak, ada, ruang, lagi, ah, di, jakar...</td>\n",
              "      <td>[ruang, ah, jakarta, mah, ribut, tawuran, metr...</td>\n",
              "    </tr>\n",
              "  </tbody>\n",
              "</table>\n",
              "</div>\n",
              "    <div class=\"colab-df-buttons\">\n",
              "\n",
              "  <div class=\"colab-df-container\">\n",
              "    <button class=\"colab-df-convert\" onclick=\"convertToInteractive('df-ea647c13-a322-4df8-86e5-da451f3e4bb9')\"\n",
              "            title=\"Convert this dataframe to an interactive table.\"\n",
              "            style=\"display:none;\">\n",
              "\n",
              "  <svg xmlns=\"http://www.w3.org/2000/svg\" height=\"24px\" viewBox=\"0 -960 960 960\">\n",
              "    <path d=\"M120-120v-720h720v720H120Zm60-500h600v-160H180v160Zm220 220h160v-160H400v160Zm0 220h160v-160H400v160ZM180-400h160v-160H180v160Zm440 0h160v-160H620v160ZM180-180h160v-160H180v160Zm440 0h160v-160H620v160Z\"/>\n",
              "  </svg>\n",
              "    </button>\n",
              "\n",
              "  <style>\n",
              "    .colab-df-container {\n",
              "      display:flex;\n",
              "      gap: 12px;\n",
              "    }\n",
              "\n",
              "    .colab-df-convert {\n",
              "      background-color: #E8F0FE;\n",
              "      border: none;\n",
              "      border-radius: 50%;\n",
              "      cursor: pointer;\n",
              "      display: none;\n",
              "      fill: #1967D2;\n",
              "      height: 32px;\n",
              "      padding: 0 0 0 0;\n",
              "      width: 32px;\n",
              "    }\n",
              "\n",
              "    .colab-df-convert:hover {\n",
              "      background-color: #E2EBFA;\n",
              "      box-shadow: 0px 1px 2px rgba(60, 64, 67, 0.3), 0px 1px 3px 1px rgba(60, 64, 67, 0.15);\n",
              "      fill: #174EA6;\n",
              "    }\n",
              "\n",
              "    .colab-df-buttons div {\n",
              "      margin-bottom: 4px;\n",
              "    }\n",
              "\n",
              "    [theme=dark] .colab-df-convert {\n",
              "      background-color: #3B4455;\n",
              "      fill: #D2E3FC;\n",
              "    }\n",
              "\n",
              "    [theme=dark] .colab-df-convert:hover {\n",
              "      background-color: #434B5C;\n",
              "      box-shadow: 0px 1px 3px 1px rgba(0, 0, 0, 0.15);\n",
              "      filter: drop-shadow(0px 1px 2px rgba(0, 0, 0, 0.3));\n",
              "      fill: #FFFFFF;\n",
              "    }\n",
              "  </style>\n",
              "\n",
              "    <script>\n",
              "      const buttonEl =\n",
              "        document.querySelector('#df-ea647c13-a322-4df8-86e5-da451f3e4bb9 button.colab-df-convert');\n",
              "      buttonEl.style.display =\n",
              "        google.colab.kernel.accessAllowed ? 'block' : 'none';\n",
              "\n",
              "      async function convertToInteractive(key) {\n",
              "        const element = document.querySelector('#df-ea647c13-a322-4df8-86e5-da451f3e4bb9');\n",
              "        const dataTable =\n",
              "          await google.colab.kernel.invokeFunction('convertToInteractive',\n",
              "                                                    [key], {});\n",
              "        if (!dataTable) return;\n",
              "\n",
              "        const docLinkHtml = 'Like what you see? Visit the ' +\n",
              "          '<a target=\"_blank\" href=https://colab.research.google.com/notebooks/data_table.ipynb>data table notebook</a>'\n",
              "          + ' to learn more about interactive tables.';\n",
              "        element.innerHTML = '';\n",
              "        dataTable['output_type'] = 'display_data';\n",
              "        await google.colab.output.renderOutput(dataTable, element);\n",
              "        const docLink = document.createElement('div');\n",
              "        docLink.innerHTML = docLinkHtml;\n",
              "        element.appendChild(docLink);\n",
              "      }\n",
              "    </script>\n",
              "  </div>\n",
              "\n",
              "\n",
              "<div id=\"df-c4ef81fe-a8d0-4c75-a826-907da203421c\">\n",
              "  <button class=\"colab-df-quickchart\" onclick=\"quickchart('df-c4ef81fe-a8d0-4c75-a826-907da203421c')\"\n",
              "            title=\"Suggest charts\"\n",
              "            style=\"display:none;\">\n",
              "\n",
              "<svg xmlns=\"http://www.w3.org/2000/svg\" height=\"24px\"viewBox=\"0 0 24 24\"\n",
              "     width=\"24px\">\n",
              "    <g>\n",
              "        <path d=\"M19 3H5c-1.1 0-2 .9-2 2v14c0 1.1.9 2 2 2h14c1.1 0 2-.9 2-2V5c0-1.1-.9-2-2-2zM9 17H7v-7h2v7zm4 0h-2V7h2v10zm4 0h-2v-4h2v4z\"/>\n",
              "    </g>\n",
              "</svg>\n",
              "  </button>\n",
              "\n",
              "<style>\n",
              "  .colab-df-quickchart {\n",
              "      --bg-color: #E8F0FE;\n",
              "      --fill-color: #1967D2;\n",
              "      --hover-bg-color: #E2EBFA;\n",
              "      --hover-fill-color: #174EA6;\n",
              "      --disabled-fill-color: #AAA;\n",
              "      --disabled-bg-color: #DDD;\n",
              "  }\n",
              "\n",
              "  [theme=dark] .colab-df-quickchart {\n",
              "      --bg-color: #3B4455;\n",
              "      --fill-color: #D2E3FC;\n",
              "      --hover-bg-color: #434B5C;\n",
              "      --hover-fill-color: #FFFFFF;\n",
              "      --disabled-bg-color: #3B4455;\n",
              "      --disabled-fill-color: #666;\n",
              "  }\n",
              "\n",
              "  .colab-df-quickchart {\n",
              "    background-color: var(--bg-color);\n",
              "    border: none;\n",
              "    border-radius: 50%;\n",
              "    cursor: pointer;\n",
              "    display: none;\n",
              "    fill: var(--fill-color);\n",
              "    height: 32px;\n",
              "    padding: 0;\n",
              "    width: 32px;\n",
              "  }\n",
              "\n",
              "  .colab-df-quickchart:hover {\n",
              "    background-color: var(--hover-bg-color);\n",
              "    box-shadow: 0 1px 2px rgba(60, 64, 67, 0.3), 0 1px 3px 1px rgba(60, 64, 67, 0.15);\n",
              "    fill: var(--button-hover-fill-color);\n",
              "  }\n",
              "\n",
              "  .colab-df-quickchart-complete:disabled,\n",
              "  .colab-df-quickchart-complete:disabled:hover {\n",
              "    background-color: var(--disabled-bg-color);\n",
              "    fill: var(--disabled-fill-color);\n",
              "    box-shadow: none;\n",
              "  }\n",
              "\n",
              "  .colab-df-spinner {\n",
              "    border: 2px solid var(--fill-color);\n",
              "    border-color: transparent;\n",
              "    border-bottom-color: var(--fill-color);\n",
              "    animation:\n",
              "      spin 1s steps(1) infinite;\n",
              "  }\n",
              "\n",
              "  @keyframes spin {\n",
              "    0% {\n",
              "      border-color: transparent;\n",
              "      border-bottom-color: var(--fill-color);\n",
              "      border-left-color: var(--fill-color);\n",
              "    }\n",
              "    20% {\n",
              "      border-color: transparent;\n",
              "      border-left-color: var(--fill-color);\n",
              "      border-top-color: var(--fill-color);\n",
              "    }\n",
              "    30% {\n",
              "      border-color: transparent;\n",
              "      border-left-color: var(--fill-color);\n",
              "      border-top-color: var(--fill-color);\n",
              "      border-right-color: var(--fill-color);\n",
              "    }\n",
              "    40% {\n",
              "      border-color: transparent;\n",
              "      border-right-color: var(--fill-color);\n",
              "      border-top-color: var(--fill-color);\n",
              "    }\n",
              "    60% {\n",
              "      border-color: transparent;\n",
              "      border-right-color: var(--fill-color);\n",
              "    }\n",
              "    80% {\n",
              "      border-color: transparent;\n",
              "      border-right-color: var(--fill-color);\n",
              "      border-bottom-color: var(--fill-color);\n",
              "    }\n",
              "    90% {\n",
              "      border-color: transparent;\n",
              "      border-bottom-color: var(--fill-color);\n",
              "    }\n",
              "  }\n",
              "</style>\n",
              "\n",
              "  <script>\n",
              "    async function quickchart(key) {\n",
              "      const quickchartButtonEl =\n",
              "        document.querySelector('#' + key + ' button');\n",
              "      quickchartButtonEl.disabled = true;  // To prevent multiple clicks.\n",
              "      quickchartButtonEl.classList.add('colab-df-spinner');\n",
              "      try {\n",
              "        const charts = await google.colab.kernel.invokeFunction(\n",
              "            'suggestCharts', [key], {});\n",
              "      } catch (error) {\n",
              "        console.error('Error during call to suggestCharts:', error);\n",
              "      }\n",
              "      quickchartButtonEl.classList.remove('colab-df-spinner');\n",
              "      quickchartButtonEl.classList.add('colab-df-quickchart-complete');\n",
              "    }\n",
              "    (() => {\n",
              "      let quickchartButtonEl =\n",
              "        document.querySelector('#df-c4ef81fe-a8d0-4c75-a826-907da203421c button');\n",
              "      quickchartButtonEl.style.display =\n",
              "        google.colab.kernel.accessAllowed ? 'block' : 'none';\n",
              "    })();\n",
              "  </script>\n",
              "</div>\n",
              "\n",
              "    </div>\n",
              "  </div>\n"
            ],
            "application/vnd.google.colaboratory.intrinsic+json": {
              "type": "dataframe",
              "summary": "{\n  \"name\": \"data_krl[['normalisasi', 'stopwords_removal']]\",\n  \"rows\": 5,\n  \"fields\": [\n    {\n      \"column\": \"normalisasi\",\n      \"properties\": {\n        \"dtype\": \"object\",\n        \"semantic_type\": \"\",\n        \"description\": \"\"\n      }\n    },\n    {\n      \"column\": \"stopwords_removal\",\n      \"properties\": {\n        \"dtype\": \"object\",\n        \"semantic_type\": \"\",\n        \"description\": \"\"\n      }\n    }\n  ]\n}"
            }
          },
          "metadata": {},
          "execution_count": 33
        }
      ]
    },
    {
      "cell_type": "code",
      "source": [
        "data_krl.to_csv('data_krl.csv', index=False)\n",
        "data_mrt.to_csv('data_mrt.csv', index=False)\n",
        "data_lrt.to_csv('data_lrt.csv', index=False)"
      ],
      "metadata": {
        "id": "Zgy4EH0Hr8Y5"
      },
      "execution_count": null,
      "outputs": []
    },
    {
      "cell_type": "code",
      "source": [
        "# Melakukan stem teks\n",
        "from Sastrawi.Stemmer.StemmerFactory import StemmerFactory\n",
        "from tqdm import tqdm\n",
        "\n",
        "factory = StemmerFactory()\n",
        "stemmer = factory.create_stemmer()\n",
        "\n",
        "# Mendefenisikan fungsi stemmer\n",
        "def stemming_text(tokens):\n",
        "  hasil_stemming = []\n",
        "  for token in tokens :\n",
        "    stemming = stemmer.stem(token)\n",
        "    hasil_stemming.append(stemming)\n",
        "  stemm = []\n",
        "  stemm = \" \".join(hasil_stemming)\n",
        "  return stemm"
      ],
      "metadata": {
        "id": "PBtw8pPWId_3"
      },
      "execution_count": null,
      "outputs": []
    },
    {
      "cell_type": "code",
      "source": [
        "# Mengimplementasikan fungsi ke dataset KRL dan menyimpan ke direktori gdrive\n",
        "tqdm.pandas(desc=\"Progress Stemming Data KRL\")\n",
        "data_krl['stemming'] = data_krl['stopwords_removal'].progress_apply(stemming_text)\n",
        "data_krl.to_csv('/content/drive/MyDrive/Tugas Akhir/Dataset Twitter/Dataset/Data_KRL_stemming.csv', index=False)"
      ],
      "metadata": {
        "id": "y3XJLutGMrTA"
      },
      "execution_count": null,
      "outputs": []
    },
    {
      "cell_type": "code",
      "source": [
        "# Mengimplementasikan fungsi ke dataset KRL dan menyimpan ke direktori gdrive\n",
        "tqdm.pandas(desc=\"Progress Stemming Data MRT\")\n",
        "data_mrt['stemming'] = data_mrt['stopwords_removal'].progress_apply(stemming_text)\n",
        "data_mrt.to_csv('/content/drive/MyDrive/Tugas Akhir/Dataset Twitter/Dataset/Data_MRT_stemming.csv', index=False)"
      ],
      "metadata": {
        "colab": {
          "base_uri": "https://localhost:8080/"
        },
        "id": "T4-KyEjaIY9K",
        "outputId": "e027cf8b-2a5e-4cd1-bce3-476a60082bad"
      },
      "execution_count": null,
      "outputs": [
        {
          "output_type": "stream",
          "name": "stderr",
          "text": [
            "Progress Stemming Data MRT: 100%|██████████| 9552/9552 [26:05<00:00,  6.10it/s]\n"
          ]
        }
      ]
    },
    {
      "cell_type": "code",
      "source": [
        "# Mengimplementasikan fungsi ke dataset KRL dan menyimpan ke direktori gdrive\n",
        "tqdm.pandas(desc=\"Progress Stemming Data LRT\")\n",
        "data_lrt['stemming'] = data_lrt['stopwords_removal'].progress_apply(stemming_text)\n",
        "data_lrt.to_csv('/content/drive/MyDrive/Tugas Akhir/Dataset Twitter/Dataset/Data_LRT_stemming.csv', index=False)"
      ],
      "metadata": {
        "colab": {
          "base_uri": "https://localhost:8080/"
        },
        "id": "vmyxYA5XIsAE",
        "outputId": "84b66ae2-7a4b-4769-cac4-572ca95bae94"
      },
      "execution_count": null,
      "outputs": [
        {
          "output_type": "stream",
          "name": "stderr",
          "text": [
            "Progress Stemming Data LRT: 100%|██████████| 2308/2308 [05:39<00:00,  6.79it/s]\n"
          ]
        }
      ]
    }
  ]
}