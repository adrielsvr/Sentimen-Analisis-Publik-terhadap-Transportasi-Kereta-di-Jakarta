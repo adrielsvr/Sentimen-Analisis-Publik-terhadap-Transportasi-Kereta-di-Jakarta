{
  "nbformat": 4,
  "nbformat_minor": 0,
  "metadata": {
    "colab": {
      "provenance": [],
      "authorship_tag": "ABX9TyNs3VDVmVVnQ8fncbeaLuVN",
      "include_colab_link": true
    },
    "kernelspec": {
      "name": "python3",
      "display_name": "Python 3"
    },
    "language_info": {
      "name": "python"
    }
  },
  "cells": [
    {
      "cell_type": "markdown",
      "metadata": {
        "id": "view-in-github",
        "colab_type": "text"
      },
      "source": [
        "<a href=\"https://colab.research.google.com/github/adrielsvr/Sentimen-Analisis-Publik-terhadap-Transportasi-Kereta-di-Jakarta/blob/main/Preprocessing/Pelabelan_Data_Transportasi_Kereta.ipynb\" target=\"_parent\"><img src=\"https://colab.research.google.com/assets/colab-badge.svg\" alt=\"Open In Colab\"/></a>"
      ]
    },
    {
      "cell_type": "code",
      "source": [
        "!pip install sastrawi"
      ],
      "metadata": {
        "colab": {
          "base_uri": "https://localhost:8080/"
        },
        "id": "dzOxFe_AsXDH",
        "outputId": "aae481cb-c4fa-4dea-e104-cb77811f3d5d"
      },
      "execution_count": null,
      "outputs": [
        {
          "output_type": "stream",
          "name": "stdout",
          "text": [
            "Collecting sastrawi\n",
            "  Downloading Sastrawi-1.0.1-py2.py3-none-any.whl (209 kB)\n",
            "\u001b[2K     \u001b[90m━━━━━━━━━━━━━━━━━━━━━━━━━━━━━━━━━━━━━━━━\u001b[0m \u001b[32m209.7/209.7 kB\u001b[0m \u001b[31m3.6 MB/s\u001b[0m eta \u001b[36m0:00:00\u001b[0m\n",
            "\u001b[?25hInstalling collected packages: sastrawi\n",
            "Successfully installed sastrawi-1.0.1\n"
          ]
        }
      ]
    },
    {
      "cell_type": "code",
      "source": [
        "import pandas as pd\n",
        "import numpy as np\n",
        "import matplotlib.pyplot as plt\n",
        "from wordcloud import WordCloud\n",
        "from google.colab import drive\n",
        "drive.mount('/content/drive')"
      ],
      "metadata": {
        "colab": {
          "base_uri": "https://localhost:8080/"
        },
        "id": "2dgHv-PQ32pa",
        "outputId": "79cccce9-fca5-444d-bad9-11a806fbb91f"
      },
      "execution_count": null,
      "outputs": [
        {
          "output_type": "stream",
          "name": "stdout",
          "text": [
            "Mounted at /content/drive\n"
          ]
        }
      ]
    },
    {
      "cell_type": "code",
      "execution_count": null,
      "metadata": {
        "id": "NsYG5pLV3xfB",
        "colab": {
          "base_uri": "https://localhost:8080/"
        },
        "outputId": "a5d6cfcb-d31c-4806-cfb6-9eb0c6a5e358"
      },
      "outputs": [
        {
          "output_type": "stream",
          "name": "stdout",
          "text": [
            "DATA KRL \n",
            " 0    hai kakak kartu krl commuter line guna naik mr...\n",
            "1    keujanan bogor gigil lama krl pas jakarta ange...\n",
            "2    aku bkn orang jakarta tiap kesana seru gitu ka...\n",
            "3         justru hari lebaran krl sepi jakarta lengang\n",
            "4    ruang ah jakarta mah ribut tawur metro mini pa...\n",
            "Name: stemming, dtype: object\n",
            "\n",
            "DATA MRT \n",
            " 0    ubah jadwal operasional mrt jakarta malam tahu...\n",
            "1    lebih bagus kalau ajar halte nyambung krl mrt ...\n",
            "2                              bal needs airport train\n",
            "3    terlalu fokus perang bom aksi laga lain lupa h...\n",
            "4    siapa sini citacita nya strolling arround jaka...\n",
            "Name: stemming, dtype: object\n",
            "\n",
            "DATA LRT \n",
            " 0    lrt jabodebek siap atas macet ayo cek cara nai...\n",
            "1    dewi perssik sebut nikita mirzani jual apem ir...\n",
            "2    viral rok model lorot rachel vennya tampil buk...\n",
            "3    bangun habis mimpi naik lrt jakarta nyampe sta...\n",
            "4    damping presiden jokowi resmi kereta api ringa...\n",
            "Name: stemming, dtype: object\n"
          ]
        }
      ],
      "source": [
        "path_krl = '/content/drive/MyDrive/Tugas Akhir/Dataset Twitter/Dataset/Data_KRL_stemming.csv'\n",
        "path_mrt = '/content/drive/MyDrive/Tugas Akhir/Dataset Twitter/Dataset/Data_MRT_stemming.csv'\n",
        "path_lrt = '/content/drive/MyDrive/Tugas Akhir/Dataset Twitter/Dataset/Data_LRT_stemming.csv'\n",
        "\n",
        "data_preprocess_krl = pd.read_csv(path_krl)\n",
        "data_preprocess_mrt = pd.read_csv(path_mrt)\n",
        "data_preprocess_lrt = pd.read_csv(path_lrt)\n",
        "\n",
        "print(f\"DATA KRL \\n {data_preprocess_krl['stemming'].head()}\\n\")\n",
        "print(f\"DATA MRT \\n {data_preprocess_mrt['stemming'].head()}\\n\")\n",
        "print(f\"DATA LRT \\n {data_preprocess_lrt['stemming'].head()}\")"
      ]
    },
    {
      "cell_type": "code",
      "source": [
        "data_preprocess_krl.info()"
      ],
      "metadata": {
        "colab": {
          "base_uri": "https://localhost:8080/"
        },
        "id": "OcARK8RJzhrg",
        "outputId": "32d58841-2f63-42f2-b228-2c55bd4f9af2"
      },
      "execution_count": null,
      "outputs": [
        {
          "output_type": "stream",
          "name": "stdout",
          "text": [
            "<class 'pandas.core.frame.DataFrame'>\n",
            "RangeIndex: 7795 entries, 0 to 7794\n",
            "Data columns (total 6 columns):\n",
            " #   Column             Non-Null Count  Dtype \n",
            "---  ------             --------------  ----- \n",
            " 0   full_text          7795 non-null   object\n",
            " 1   clean_text         7795 non-null   object\n",
            " 2   normalisasi        7795 non-null   object\n",
            " 3   tokenized_text     7795 non-null   object\n",
            " 4   stopwords_removal  7795 non-null   object\n",
            " 5   stemming           7795 non-null   object\n",
            "dtypes: object(6)\n",
            "memory usage: 365.5+ KB\n"
          ]
        }
      ]
    },
    {
      "cell_type": "code",
      "source": [
        "print('Data KRL :', data_preprocess_krl['stemming'].count())\n",
        "print('Data MRT :', data_preprocess_mrt['stemming'].count())\n",
        "print('Data LRT :', data_preprocess_lrt['stemming'].count())"
      ],
      "metadata": {
        "colab": {
          "base_uri": "https://localhost:8080/"
        },
        "id": "HzfUpJZbyEm9",
        "outputId": "0147dd39-e06e-4358-99e7-2ae3e15df0ee"
      },
      "execution_count": null,
      "outputs": [
        {
          "output_type": "stream",
          "name": "stdout",
          "text": [
            "Data KRL : 7795\n",
            "Data MRT : 9471\n",
            "Data LRT : 2308\n"
          ]
        }
      ]
    },
    {
      "cell_type": "code",
      "source": [
        "print(data_preprocess_krl['stemming'].isna().sum())\n",
        "print(data_preprocess_mrt['stemming'].isna().sum())\n",
        "print(data_preprocess_lrt['stemming'].isna().sum())\n",
        "\n",
        "print(data_preprocess_krl[data_preprocess_krl['stemming']==''].sum())\n",
        "print(data_preprocess_mrt[data_preprocess_mrt['stemming']==''].sum())\n",
        "print(data_preprocess_lrt[data_preprocess_lrt['stemming']==''].sum())"
      ],
      "metadata": {
        "colab": {
          "base_uri": "https://localhost:8080/"
        },
        "id": "f0BKQnJ54jxr",
        "outputId": "7df86984-c843-4147-90c7-66806d29e08b"
      },
      "execution_count": null,
      "outputs": [
        {
          "output_type": "stream",
          "name": "stdout",
          "text": [
            "0\n",
            "81\n",
            "0\n",
            "full_text            0\n",
            "clean_text           0\n",
            "normalisasi          0\n",
            "tokenized_text       0\n",
            "stopwords_removal    0\n",
            "stemming             0\n",
            "dtype: object\n",
            "full_text            0\n",
            "clean_text           0\n",
            "normalisasi          0\n",
            "tokenized_text       0\n",
            "stopwords_removal    0\n",
            "stemming             0\n",
            "dtype: object\n",
            "full_text            0\n",
            "clean_text           0\n",
            "normalisasi          0\n",
            "tokenized_text       0\n",
            "stopwords_removal    0\n",
            "stemming             0\n",
            "dtype: object\n"
          ]
        }
      ]
    },
    {
      "cell_type": "code",
      "source": [
        "data_preprocess_krl = data_preprocess_krl.dropna()\n",
        "data_preprocess_mrt = data_preprocess_mrt.dropna()\n",
        "data_preprocess_lrt = data_preprocess_lrt.dropna()"
      ],
      "metadata": {
        "id": "I-5Hzss04uvQ"
      },
      "execution_count": null,
      "outputs": []
    },
    {
      "cell_type": "code",
      "source": [
        "print(data_preprocess_krl.duplicated(subset='stemming').sum())\n",
        "print(data_preprocess_mrt.duplicated(subset='stemming').sum())\n",
        "print(data_preprocess_lrt.duplicated(subset='stemming').sum())"
      ],
      "metadata": {
        "colab": {
          "base_uri": "https://localhost:8080/"
        },
        "id": "3GhA2H89xasr",
        "outputId": "c4c2d38c-6f1c-463b-adc6-dbfde780e1ce"
      },
      "execution_count": null,
      "outputs": [
        {
          "output_type": "stream",
          "name": "stdout",
          "text": [
            "369\n",
            "858\n",
            "126\n"
          ]
        }
      ]
    },
    {
      "cell_type": "code",
      "source": [
        "data_preprocess_krl = data_preprocess_krl.drop_duplicates(subset='stemming')\n",
        "data_preprocess_mrt = data_preprocess_mrt.drop_duplicates(subset='stemming')\n",
        "data_preprocess_lrt = data_preprocess_lrt.drop_duplicates(subset='stemming')"
      ],
      "metadata": {
        "id": "7IVtAApLyOXo"
      },
      "execution_count": null,
      "outputs": []
    },
    {
      "cell_type": "code",
      "source": [
        "print('Data KRL :', data_preprocess_krl['stemming'].count())\n",
        "print('Data MRT :', data_preprocess_mrt['stemming'].count())\n",
        "print('Data LRT :', data_preprocess_lrt['stemming'].count())"
      ],
      "metadata": {
        "colab": {
          "base_uri": "https://localhost:8080/"
        },
        "id": "Utg0mhOhzR-b",
        "outputId": "da60fafa-79a2-421f-c8e0-f160b4622bcc"
      },
      "execution_count": null,
      "outputs": [
        {
          "output_type": "stream",
          "name": "stdout",
          "text": [
            "Data KRL : 7426\n",
            "Data MRT : 8613\n",
            "Data LRT : 2182\n"
          ]
        }
      ]
    },
    {
      "cell_type": "code",
      "source": [
        "# Mengambil path data sentimen berbahasa indonesia dari github\n",
        "path_positif = 'https://raw.githubusercontent.com/fajri91/InSet/master/positive.tsv'\n",
        "path_negatif = 'https://raw.githubusercontent.com/fajri91/InSet/master/negative.tsv'\n",
        "\n",
        "# Membaca data sentimen dari path\n",
        "positif_sentiment = pd.read_csv(path_positif, delimiter='\\t')\n",
        "negatif_sentiment = pd.read_csv(path_negatif, delimiter='\\t')\n",
        "\n",
        "# Menjadikan data sentimen menjadi bentuk dictionary\n",
        "positif_dict = dict(zip(positif_sentiment['word'], positif_sentiment['weight']))\n",
        "negatif_dict = dict(zip(negatif_sentiment['word'], negatif_sentiment['weight']))\n",
        "\n",
        "# Menggabungkan dictionary sentimen positif dengan negatif\n",
        "sentiment_dict = {**positif_dict, **negatif_dict}\n",
        "\n",
        "# Mendefenisikan fungsi untuk menghitung skor polaritas\n",
        "def polarity_score(text, sentiment_dict):\n",
        "    words = text.split()\n",
        "    score = 0\n",
        "    for word in words:\n",
        "        if word in sentiment_dict:\n",
        "            score += sentiment_dict[word]\n",
        "    return score\n",
        "\n",
        "# Mengimplementasikan fungsi polarity_score ke dataset\n",
        "data_preprocess_krl['polarity_score'] = data_preprocess_krl['stemming'].apply(lambda x: polarity_score(x, sentiment_dict))\n",
        "data_preprocess_mrt['polarity_score'] = data_preprocess_mrt['stemming'].apply(lambda x: polarity_score(x, sentiment_dict))\n",
        "data_preprocess_lrt['polarity_score'] = data_preprocess_lrt['stemming'].apply(lambda x: polarity_score(x, sentiment_dict))\n",
        "\n",
        "# Menampilkan hasil dataset polarity_score\n",
        "print(f'DATA KRL \\n {data_preprocess_krl.head()}\\n')\n",
        "print(f'DATA MRT \\n {data_preprocess_mrt.head()}\\n')\n",
        "print(f'DATA LRT \\n {data_preprocess_lrt.head()}')"
      ],
      "metadata": {
        "colab": {
          "base_uri": "https://localhost:8080/"
        },
        "id": "lXlh67-t5WPD",
        "outputId": "37c21a35-2eb6-44c9-fe98-7053bc87538a"
      },
      "execution_count": null,
      "outputs": [
        {
          "output_type": "stream",
          "name": "stdout",
          "text": [
            "DATA KRL \n",
            "                                            full_text  \\\n",
            "0  @miaetsumi Hai, Kak. Untuk kartu KRL Commuter ...   \n",
            "1  Keujanan di Bogor, menggigil selama di KRL, pa...   \n",
            "2  @tanyarlfes Karena aku bkn orang jakarta, tiap...   \n",
            "3  @adriansyahyasin Justru di hari lebaran itu KR...   \n",
            "4  @JakartaAwayDay Udah gak ada ruang lagi ah di ...   \n",
            "\n",
            "                                          clean_text  \\\n",
            "0   hai kak untuk kartu krl commuter line dapat d...   \n",
            "1  keujanan di bogor menggigil selama di krl pas ...   \n",
            "2   karena aku bkn orang jakarta tiap kesana seru...   \n",
            "3   justru di hari lebaran itu krl sepi karena ja...   \n",
            "4   udah gak ada ruang lagi ah di jakarta mah rib...   \n",
            "\n",
            "                                         normalisasi  \\\n",
            "0  hai kakak untuk kartu krl commuter line dapat ...   \n",
            "1  keujanan di bogor menggigil selama di krl pas ...   \n",
            "2  karena aku bkn orang jakarta tiap kesana seru ...   \n",
            "3  justru di hari lebaran itu krl sepi karena jak...   \n",
            "4  sudah tidak ada ruang lagi ah di jakarta mah r...   \n",
            "\n",
            "                                      tokenized_text  \\\n",
            "0  ['hai', 'kakak', 'untuk', 'kartu', 'krl', 'com...   \n",
            "1  ['keujanan', 'di', 'bogor', 'menggigil', 'sela...   \n",
            "2  ['karena', 'aku', 'bkn', 'orang', 'jakarta', '...   \n",
            "3  ['justru', 'di', 'hari', 'lebaran', 'itu', 'kr...   \n",
            "4  ['sudah', 'tidak', 'ada', 'ruang', 'lagi', 'ah...   \n",
            "\n",
            "                                   stopwords_removal  \\\n",
            "0  ['hai', 'kakak', 'kartu', 'krl', 'commuter', '...   \n",
            "1  ['keujanan', 'bogor', 'menggigil', 'selama', '...   \n",
            "2  ['aku', 'bkn', 'orang', 'jakarta', 'tiap', 'ke...   \n",
            "3  ['justru', 'hari', 'lebaran', 'krl', 'sepi', '...   \n",
            "4  ['ruang', 'ah', 'jakarta', 'mah', 'ribut', 'ta...   \n",
            "\n",
            "                                            stemming  polarity_score  \n",
            "0  hai kakak kartu krl commuter line guna naik mr...               5  \n",
            "1  keujanan bogor gigil lama krl pas jakarta ange...              -9  \n",
            "2  aku bkn orang jakarta tiap kesana seru gitu ka...             -29  \n",
            "3       justru hari lebaran krl sepi jakarta lengang              -7  \n",
            "4  ruang ah jakarta mah ribut tawur metro mini pa...             -11  \n",
            "\n",
            "DATA MRT \n",
            "                                            full_text  \\\n",
            "0  Ada Perubahan Jadwal Operasional MRT Jakarta S...   \n",
            "1  @UGM_FESS 4. Lebih bagus lagi kalo bisa pelaja...   \n",
            "2  https://t.co/qCPONlISDS Bali needs airport tra...   \n",
            "3  @WatchmenID Terlalu fokus dengan perang, bom d...   \n",
            "4  siapa disini yg cita-cita nya strolling arroun...   \n",
            "\n",
            "                                          clean_text  \\\n",
            "0  ada perubahan jadwal operasional mrt jakarta s...   \n",
            "1    lebih bagus lagi kalo bisa pelajari halte yg...   \n",
            "2                          bali needs airport train    \n",
            "3   terlalu fokus dengan perang bom dan aksi laga...   \n",
            "4  siapa disini yg citacita nya strolling arround...   \n",
            "\n",
            "                                         normalisasi  \\\n",
            "0  ada perubahan jadwal operasional mrt jakarta s...   \n",
            "1  lebih bagus lagi kalau bisa pelajari halte yan...   \n",
            "2                           bali needs airport train   \n",
            "3  terlalu fokus dengan perang bom dan aksi laga ...   \n",
            "4  siapa disini yang citacita nya strolling arrou...   \n",
            "\n",
            "                                      tokenized_text  \\\n",
            "0  ['ada', 'perubahan', 'jadwal', 'operasional', ...   \n",
            "1  ['lebih', 'bagus', 'lagi', 'kalau', 'bisa', 'p...   \n",
            "2              ['bali', 'needs', 'airport', 'train']   \n",
            "3  ['terlalu', 'fokus', 'dengan', 'perang', 'bom'...   \n",
            "4  ['siapa', 'disini', 'yang', 'citacita', 'nya',...   \n",
            "\n",
            "                                   stopwords_removal  \\\n",
            "0  ['perubahan', 'jadwal', 'operasional', 'mrt', ...   \n",
            "1  ['lebih', 'bagus', 'kalau', 'pelajari', 'halte...   \n",
            "2              ['bali', 'needs', 'airport', 'train']   \n",
            "3  ['terlalu', 'fokus', 'perang', 'bom', 'aksi', ...   \n",
            "4  ['siapa', 'disini', 'citacita', 'nya', 'stroll...   \n",
            "\n",
            "                                            stemming  polarity_score  \n",
            "0  ubah jadwal operasional mrt jakarta malam tahu...              -5  \n",
            "1  lebih bagus kalau ajar halte nyambung krl mrt ...             -15  \n",
            "2                            bal needs airport train               0  \n",
            "3  terlalu fokus perang bom aksi laga lain lupa h...             -36  \n",
            "4  siapa sini citacita nya strolling arround jaka...              -8  \n",
            "\n",
            "DATA LRT \n",
            "                                            full_text  \\\n",
            "0  LRT Jabodebek siap mengatasi kemacetan. Yuk ce...   \n",
            "1  Dewi Perssik Sebut Nikita Mirzani Jualan Apem ...   \n",
            "2  Viral Rok Model Melorot, Rachel Vennya Tampil ...   \n",
            "3  Kebangun abis mimpi naik LRT jakarta nyampe di...   \n",
            "4  Saat @erickthohir mendampingi presiden Jokowi ...   \n",
            "\n",
            "                                          clean_text  \\\n",
            "0  lrt jabodebek siap mengatasi kemacetan yuk cek...   \n",
            "1  dewi perssik sebut nikita mirzani jualan apem ...   \n",
            "2  viral rok model melorot rachel vennya tampil b...   \n",
            "3  kebangun abis mimpi naik lrt jakarta nyampe di...   \n",
            "4  saat mendampingi presiden jokowi dalam meresmi...   \n",
            "\n",
            "                                         normalisasi  \\\n",
            "0  lrt jabodebek siap mengatasi kemacetan ayo cek...   \n",
            "1  dewi perssik sebut nikita mirzani jualan apem ...   \n",
            "2  viral rok model melorot rachel vennya tampil b...   \n",
            "3  kebangun habis mimpi naik lrt jakarta nyampe d...   \n",
            "4  saat mendampingi presiden jokowi dalam meresmi...   \n",
            "\n",
            "                                      tokenized_text  \\\n",
            "0  ['lrt', 'jabodebek', 'siap', 'mengatasi', 'kem...   \n",
            "1  ['dewi', 'perssik', 'sebut', 'nikita', 'mirzan...   \n",
            "2  ['viral', 'rok', 'model', 'melorot', 'rachel',...   \n",
            "3  ['kebangun', 'habis', 'mimpi', 'naik', 'lrt', ...   \n",
            "4  ['saat', 'mendampingi', 'presiden', 'jokowi', ...   \n",
            "\n",
            "                                   stopwords_removal  \\\n",
            "0  ['lrt', 'jabodebek', 'siap', 'mengatasi', 'kem...   \n",
            "1  ['dewi', 'perssik', 'sebut', 'nikita', 'mirzan...   \n",
            "2  ['viral', 'rok', 'model', 'melorot', 'rachel',...   \n",
            "3  ['kebangun', 'habis', 'mimpi', 'naik', 'lrt', ...   \n",
            "4  ['mendampingi', 'presiden', 'jokowi', 'meresmi...   \n",
            "\n",
            "                                            stemming  polarity_score  \n",
            "0  lrt jabodebek siap atas macet ayo cek cara nai...              -6  \n",
            "1  dewi perssik sebut nikita mirzani jual apem ir...              -4  \n",
            "2  viral rok model lorot rachel vennya tampil buk...             -12  \n",
            "3  bangun habis mimpi naik lrt jakarta nyampe sta...               0  \n",
            "4  damping presiden jokowi resmi kereta api ringa...              -1  \n"
          ]
        }
      ]
    },
    {
      "cell_type": "code",
      "source": [
        "# Mendefenisikan fungsi untuk menentukan label sentimen berdasarkan skor polaritas\n",
        "def sentiment_label(score):\n",
        "    if score > 0:\n",
        "        return 'Positif'\n",
        "    elif score < 0:\n",
        "        return 'Negatif'\n",
        "    else:\n",
        "        return 'Netral'\n",
        "\n",
        "# Mengimplementasikan fungsi sentiment_label ke dataset\n",
        "data_preprocess_krl['sentiment'] = data_preprocess_krl['polarity_score'].apply(sentiment_label)\n",
        "data_preprocess_mrt['sentiment'] = data_preprocess_mrt['polarity_score'].apply(sentiment_label)\n",
        "data_preprocess_lrt['sentiment'] = data_preprocess_lrt['polarity_score'].apply(sentiment_label)\n",
        "\n",
        "# Menampilkan hasil dataset sentiment\n",
        "print(f\"DATA KRL \\n {data_preprocess_krl['sentiment'].value_counts()}\\n\")\n",
        "print(f\"DATA MRT \\n {data_preprocess_mrt['sentiment'].value_counts()}\\n\")\n",
        "print(f\"DATA LRT \\n {data_preprocess_lrt['sentiment'].value_counts()}\")"
      ],
      "metadata": {
        "colab": {
          "base_uri": "https://localhost:8080/"
        },
        "id": "dEEb-2l55aLD",
        "outputId": "29bfa662-6e4f-4c97-86a1-afe1c72468ee"
      },
      "execution_count": null,
      "outputs": [
        {
          "output_type": "stream",
          "name": "stdout",
          "text": [
            "DATA KRL \n",
            " sentiment\n",
            "Negatif    6277\n",
            "Positif     797\n",
            "Netral      352\n",
            "Name: count, dtype: int64\n",
            "\n",
            "DATA MRT \n",
            " sentiment\n",
            "Negatif    6413\n",
            "Positif    1441\n",
            "Netral      759\n",
            "Name: count, dtype: int64\n",
            "\n",
            "DATA LRT \n",
            " sentiment\n",
            "Negatif    1681\n",
            "Positif     370\n",
            "Netral      131\n",
            "Name: count, dtype: int64\n"
          ]
        }
      ]
    },
    {
      "cell_type": "code",
      "source": [
        "# prompt: tampilkan barchart untuk 3 plot dari kolom sentiment dari masing-masing dataset, dimana positif berwarna Hijau, Netral bewarna Orange dan negatif berwarna merah dan untuk ukuran 3x3 dan tampilkan jumlah sentimennya dalam bentuk percentage pada masing-masing ba\n",
        "\n",
        "import matplotlib.pyplot as plt\n",
        "\n",
        "# Define colors for each sentiment\n",
        "colors = {\"Positif\": \"green\", \"Netral\": \"orange\", \"Negatif\": \"red\"}\n",
        "\n",
        "# Create subplots with 3 rows and 3 columns\n",
        "fig, axes = plt.subplots(1, 3, figsize=(12, 4))\n",
        "\n",
        "# Plot bar charts for each dataset\n",
        "axes[0].bar(data_preprocess_krl[\"sentiment\"].value_counts().index, data_preprocess_krl[\"sentiment\"].value_counts().values, color=[colors[sentiment] for sentiment in data_preprocess_krl[\"sentiment\"].value_counts().index])\n",
        "axes[0].set_title(\"KRL\")\n",
        "\n",
        "axes[1].bar(data_preprocess_mrt[\"sentiment\"].value_counts().index, data_preprocess_mrt[\"sentiment\"].value_counts().values, color=[colors[sentiment] for sentiment in data_preprocess_mrt[\"sentiment\"].value_counts().index])\n",
        "axes[1].set_title(\"MRT\")\n",
        "\n",
        "axes[2].bar(data_preprocess_lrt[\"sentiment\"].value_counts().index, data_preprocess_lrt[\"sentiment\"].value_counts().values, color=[colors[sentiment] for sentiment in data_preprocess_lrt[\"sentiment\"].value_counts().index])\n",
        "axes[2].set_title(\"LRT\")\n",
        "\n",
        "# Add percentage labels\n",
        "for ax in axes.flat:\n",
        "    for bar in ax.containers:\n",
        "        ax.bar_label(bar, label_type=\"center\", color=\"white\", fontweight='bold', rotation=0, fontsize=9, padding=1)\n",
        "\n",
        "# Adjust spacing and display plot\n",
        "plt.tight_layout()\n",
        "plt.show()"
      ],
      "metadata": {
        "colab": {
          "base_uri": "https://localhost:8080/",
          "height": 358
        },
        "id": "2GbNn87ckUvJ",
        "outputId": "9d6709f1-be0e-4ca5-921b-64548b4a8ccf"
      },
      "execution_count": null,
      "outputs": [
        {
          "output_type": "display_data",
          "data": {
            "text/plain": [
              "<Figure size 1200x400 with 3 Axes>"
            ],
            "image/png": "[encoded data removed]"
          },
          "metadata": {}
        }
      ]
    },
    {
      "cell_type": "code",
      "source": [
        "data_preprocess_krl[['stemming', 'polarity_score', 'sentiment']]"
      ],
      "metadata": {
        "colab": {
          "base_uri": "https://localhost:8080/",
          "height": 873
        },
        "id": "PqrU4gSPylGX",
        "outputId": "0e564cc8-dbfb-49ec-d9fa-9500b28811c7"
      },
      "execution_count": null,
      "outputs": [
        {
          "output_type": "execute_result",
          "data": {
            "text/plain": [
              "                                               stemming  polarity_score  \\\n",
              "0     hai kakak kartu krl commuter line guna naik mr...               5   \n",
              "1     keujanan bogor gigil lama krl pas jakarta ange...              -9   \n",
              "2     aku bkn orang jakarta tiap kesana seru gitu ka...             -29   \n",
              "3          justru hari lebaran krl sepi jakarta lengang              -7   \n",
              "4     ruang ah jakarta mah ribut tawur metro mini pa...             -11   \n",
              "...                                                 ...             ...   \n",
              "7789  parah parah jalan thamrin sudirman senayan kal...             -18   \n",
              "7790  timur jakarta bapak tumpang tindih sama krl lr...              -1   \n",
              "7791  suburban bangkok transport umum kakak kalau ka...              -3   \n",
              "7792  aku kerja pp jakartabogor naik krl gimana gitu...               5   \n",
              "7794  kalau senayan kebayoran baru jangkau pakai tra...              -6   \n",
              "\n",
              "     sentiment  \n",
              "0      Positif  \n",
              "1      Negatif  \n",
              "2      Negatif  \n",
              "3      Negatif  \n",
              "4      Negatif  \n",
              "...        ...  \n",
              "7789   Negatif  \n",
              "7790   Negatif  \n",
              "7791   Negatif  \n",
              "7792   Positif  \n",
              "7794   Negatif  \n",
              "\n",
              "[7426 rows x 3 columns]"
            ],
            "text/html": [
              "\n",
              "  <div id=\"df-0e09fdbe-49ea-42bf-9849-1cb1406398c0\" class=\"colab-df-container\">\n",
              "    <div>\n",
              "<style scoped>\n",
              "    .dataframe tbody tr th:only-of-type {\n",
              "        vertical-align: middle;\n",
              "    }\n",
              "\n",
              "    .dataframe tbody tr th {\n",
              "        vertical-align: top;\n",
              "    }\n",
              "\n",
              "    .dataframe thead th {\n",
              "        text-align: right;\n",
              "    }\n",
              "</style>\n",
              "<table border=\"1\" class=\"dataframe\">\n",
              "  <thead>\n",
              "    <tr style=\"text-align: right;\">\n",
              "      <th></th>\n",
              "      <th>stemming</th>\n",
              "      <th>polarity_score</th>\n",
              "      <th>sentiment</th>\n",
              "    </tr>\n",
              "  </thead>\n",
              "  <tbody>\n",
              "    <tr>\n",
              "      <th>0</th>\n",
              "      <td>hai kakak kartu krl commuter line guna naik mr...</td>\n",
              "      <td>5</td>\n",
              "      <td>Positif</td>\n",
              "    </tr>\n",
              "    <tr>\n",
              "      <th>1</th>\n",
              "      <td>keujanan bogor gigil lama krl pas jakarta ange...</td>\n",
              "      <td>-9</td>\n",
              "      <td>Negatif</td>\n",
              "    </tr>\n",
              "    <tr>\n",
              "      <th>2</th>\n",
              "      <td>aku bkn orang jakarta tiap kesana seru gitu ka...</td>\n",
              "      <td>-29</td>\n",
              "      <td>Negatif</td>\n",
              "    </tr>\n",
              "    <tr>\n",
              "      <th>3</th>\n",
              "      <td>justru hari lebaran krl sepi jakarta lengang</td>\n",
              "      <td>-7</td>\n",
              "      <td>Negatif</td>\n",
              "    </tr>\n",
              "    <tr>\n",
              "      <th>4</th>\n",
              "      <td>ruang ah jakarta mah ribut tawur metro mini pa...</td>\n",
              "      <td>-11</td>\n",
              "      <td>Negatif</td>\n",
              "    </tr>\n",
              "    <tr>\n",
              "      <th>...</th>\n",
              "      <td>...</td>\n",
              "      <td>...</td>\n",
              "      <td>...</td>\n",
              "    </tr>\n",
              "    <tr>\n",
              "      <th>7789</th>\n",
              "      <td>parah parah jalan thamrin sudirman senayan kal...</td>\n",
              "      <td>-18</td>\n",
              "      <td>Negatif</td>\n",
              "    </tr>\n",
              "    <tr>\n",
              "      <th>7790</th>\n",
              "      <td>timur jakarta bapak tumpang tindih sama krl lr...</td>\n",
              "      <td>-1</td>\n",
              "      <td>Negatif</td>\n",
              "    </tr>\n",
              "    <tr>\n",
              "      <th>7791</th>\n",
              "      <td>suburban bangkok transport umum kakak kalau ka...</td>\n",
              "      <td>-3</td>\n",
              "      <td>Negatif</td>\n",
              "    </tr>\n",
              "    <tr>\n",
              "      <th>7792</th>\n",
              "      <td>aku kerja pp jakartabogor naik krl gimana gitu...</td>\n",
              "      <td>5</td>\n",
              "      <td>Positif</td>\n",
              "    </tr>\n",
              "    <tr>\n",
              "      <th>7794</th>\n",
              "      <td>kalau senayan kebayoran baru jangkau pakai tra...</td>\n",
              "      <td>-6</td>\n",
              "      <td>Negatif</td>\n",
              "    </tr>\n",
              "  </tbody>\n",
              "</table>\n",
              "<p>7426 rows × 3 columns</p>\n",
              "</div>\n",
              "    <div class=\"colab-df-buttons\">\n",
              "\n",
              "  <div class=\"colab-df-container\">\n",
              "    <button class=\"colab-df-convert\" onclick=\"convertToInteractive('df-0e09fdbe-49ea-42bf-9849-1cb1406398c0')\"\n",
              "            title=\"Convert this dataframe to an interactive table.\"\n",
              "            style=\"display:none;\">\n",
              "\n",
              "  <svg xmlns=\"http://www.w3.org/2000/svg\" height=\"24px\" viewBox=\"0 -960 960 960\">\n",
              "    <path d=\"M120-120v-720h720v720H120Zm60-500h600v-160H180v160Zm220 220h160v-160H400v160Zm0 220h160v-160H400v160ZM180-400h160v-160H180v160Zm440 0h160v-160H620v160ZM180-180h160v-160H180v160Zm440 0h160v-160H620v160Z\"/>\n",
              "  </svg>\n",
              "    </button>\n",
              "\n",
              "  <style>\n",
              "    .colab-df-container {\n",
              "      display:flex;\n",
              "      gap: 12px;\n",
              "    }\n",
              "\n",
              "    .colab-df-convert {\n",
              "      background-color: #E8F0FE;\n",
              "      border: none;\n",
              "      border-radius: 50%;\n",
              "      cursor: pointer;\n",
              "      display: none;\n",
              "      fill: #1967D2;\n",
              "      height: 32px;\n",
              "      padding: 0 0 0 0;\n",
              "      width: 32px;\n",
              "    }\n",
              "\n",
              "    .colab-df-convert:hover {\n",
              "      background-color: #E2EBFA;\n",
              "      box-shadow: 0px 1px 2px rgba(60, 64, 67, 0.3), 0px 1px 3px 1px rgba(60, 64, 67, 0.15);\n",
              "      fill: #174EA6;\n",
              "    }\n",
              "\n",
              "    .colab-df-buttons div {\n",
              "      margin-bottom: 4px;\n",
              "    }\n",
              "\n",
              "    [theme=dark] .colab-df-convert {\n",
              "      background-color: #3B4455;\n",
              "      fill: #D2E3FC;\n",
              "    }\n",
              "\n",
              "    [theme=dark] .colab-df-convert:hover {\n",
              "      background-color: #434B5C;\n",
              "      box-shadow: 0px 1px 3px 1px rgba(0, 0, 0, 0.15);\n",
              "      filter: drop-shadow(0px 1px 2px rgba(0, 0, 0, 0.3));\n",
              "      fill: #FFFFFF;\n",
              "    }\n",
              "  </style>\n",
              "\n",
              "    <script>\n",
              "      const buttonEl =\n",
              "        document.querySelector('#df-0e09fdbe-49ea-42bf-9849-1cb1406398c0 button.colab-df-convert');\n",
              "      buttonEl.style.display =\n",
              "        google.colab.kernel.accessAllowed ? 'block' : 'none';\n",
              "\n",
              "      async function convertToInteractive(key) {\n",
              "        const element = document.querySelector('#df-0e09fdbe-49ea-42bf-9849-1cb1406398c0');\n",
              "        const dataTable =\n",
              "          await google.colab.kernel.invokeFunction('convertToInteractive',\n",
              "                                                    [key], {});\n",
              "        if (!dataTable) return;\n",
              "\n",
              "        const docLinkHtml = 'Like what you see? Visit the ' +\n",
              "          '<a target=\"_blank\" href=https://colab.research.google.com/notebooks/data_table.ipynb>data table notebook</a>'\n",
              "          + ' to learn more about interactive tables.';\n",
              "        element.innerHTML = '';\n",
              "        dataTable['output_type'] = 'display_data';\n",
              "        await google.colab.output.renderOutput(dataTable, element);\n",
              "        const docLink = document.createElement('div');\n",
              "        docLink.innerHTML = docLinkHtml;\n",
              "        element.appendChild(docLink);\n",
              "      }\n",
              "    </script>\n",
              "  </div>\n",
              "\n",
              "\n",
              "<div id=\"df-c8638dbb-a06a-4295-be11-a6f37aab5a88\">\n",
              "  <button class=\"colab-df-quickchart\" onclick=\"quickchart('df-c8638dbb-a06a-4295-be11-a6f37aab5a88')\"\n",
              "            title=\"Suggest charts\"\n",
              "            style=\"display:none;\">\n",
              "\n",
              "<svg xmlns=\"http://www.w3.org/2000/svg\" height=\"24px\"viewBox=\"0 0 24 24\"\n",
              "     width=\"24px\">\n",
              "    <g>\n",
              "        <path d=\"M19 3H5c-1.1 0-2 .9-2 2v14c0 1.1.9 2 2 2h14c1.1 0 2-.9 2-2V5c0-1.1-.9-2-2-2zM9 17H7v-7h2v7zm4 0h-2V7h2v10zm4 0h-2v-4h2v4z\"/>\n",
              "    </g>\n",
              "</svg>\n",
              "  </button>\n",
              "\n",
              "<style>\n",
              "  .colab-df-quickchart {\n",
              "      --bg-color: #E8F0FE;\n",
              "      --fill-color: #1967D2;\n",
              "      --hover-bg-color: #E2EBFA;\n",
              "      --hover-fill-color: #174EA6;\n",
              "      --disabled-fill-color: #AAA;\n",
              "      --disabled-bg-color: #DDD;\n",
              "  }\n",
              "\n",
              "  [theme=dark] .colab-df-quickchart {\n",
              "      --bg-color: #3B4455;\n",
              "      --fill-color: #D2E3FC;\n",
              "      --hover-bg-color: #434B5C;\n",
              "      --hover-fill-color: #FFFFFF;\n",
              "      --disabled-bg-color: #3B4455;\n",
              "      --disabled-fill-color: #666;\n",
              "  }\n",
              "\n",
              "  .colab-df-quickchart {\n",
              "    background-color: var(--bg-color);\n",
              "    border: none;\n",
              "    border-radius: 50%;\n",
              "    cursor: pointer;\n",
              "    display: none;\n",
              "    fill: var(--fill-color);\n",
              "    height: 32px;\n",
              "    padding: 0;\n",
              "    width: 32px;\n",
              "  }\n",
              "\n",
              "  .colab-df-quickchart:hover {\n",
              "    background-color: var(--hover-bg-color);\n",
              "    box-shadow: 0 1px 2px rgba(60, 64, 67, 0.3), 0 1px 3px 1px rgba(60, 64, 67, 0.15);\n",
              "    fill: var(--button-hover-fill-color);\n",
              "  }\n",
              "\n",
              "  .colab-df-quickchart-complete:disabled,\n",
              "  .colab-df-quickchart-complete:disabled:hover {\n",
              "    background-color: var(--disabled-bg-color);\n",
              "    fill: var(--disabled-fill-color);\n",
              "    box-shadow: none;\n",
              "  }\n",
              "\n",
              "  .colab-df-spinner {\n",
              "    border: 2px solid var(--fill-color);\n",
              "    border-color: transparent;\n",
              "    border-bottom-color: var(--fill-color);\n",
              "    animation:\n",
              "      spin 1s steps(1) infinite;\n",
              "  }\n",
              "\n",
              "  @keyframes spin {\n",
              "    0% {\n",
              "      border-color: transparent;\n",
              "      border-bottom-color: var(--fill-color);\n",
              "      border-left-color: var(--fill-color);\n",
              "    }\n",
              "    20% {\n",
              "      border-color: transparent;\n",
              "      border-left-color: var(--fill-color);\n",
              "      border-top-color: var(--fill-color);\n",
              "    }\n",
              "    30% {\n",
              "      border-color: transparent;\n",
              "      border-left-color: var(--fill-color);\n",
              "      border-top-color: var(--fill-color);\n",
              "      border-right-color: var(--fill-color);\n",
              "    }\n",
              "    40% {\n",
              "      border-color: transparent;\n",
              "      border-right-color: var(--fill-color);\n",
              "      border-top-color: var(--fill-color);\n",
              "    }\n",
              "    60% {\n",
              "      border-color: transparent;\n",
              "      border-right-color: var(--fill-color);\n",
              "    }\n",
              "    80% {\n",
              "      border-color: transparent;\n",
              "      border-right-color: var(--fill-color);\n",
              "      border-bottom-color: var(--fill-color);\n",
              "    }\n",
              "    90% {\n",
              "      border-color: transparent;\n",
              "      border-bottom-color: var(--fill-color);\n",
              "    }\n",
              "  }\n",
              "</style>\n",
              "\n",
              "  <script>\n",
              "    async function quickchart(key) {\n",
              "      const quickchartButtonEl =\n",
              "        document.querySelector('#' + key + ' button');\n",
              "      quickchartButtonEl.disabled = true;  // To prevent multiple clicks.\n",
              "      quickchartButtonEl.classList.add('colab-df-spinner');\n",
              "      try {\n",
              "        const charts = await google.colab.kernel.invokeFunction(\n",
              "            'suggestCharts', [key], {});\n",
              "      } catch (error) {\n",
              "        console.error('Error during call to suggestCharts:', error);\n",
              "      }\n",
              "      quickchartButtonEl.classList.remove('colab-df-spinner');\n",
              "      quickchartButtonEl.classList.add('colab-df-quickchart-complete');\n",
              "    }\n",
              "    (() => {\n",
              "      let quickchartButtonEl =\n",
              "        document.querySelector('#df-c8638dbb-a06a-4295-be11-a6f37aab5a88 button');\n",
              "      quickchartButtonEl.style.display =\n",
              "        google.colab.kernel.accessAllowed ? 'block' : 'none';\n",
              "    })();\n",
              "  </script>\n",
              "</div>\n",
              "\n",
              "    </div>\n",
              "  </div>\n"
            ],
            "application/vnd.google.colaboratory.intrinsic+json": {
              "type": "dataframe",
              "summary": "{\n  \"name\": \"data_preprocess_krl[['stemming', 'polarity_score', 'sentiment']]\",\n  \"rows\": 7426,\n  \"fields\": [\n    {\n      \"column\": \"stemming\",\n      \"properties\": {\n        \"dtype\": \"string\",\n        \"num_unique_values\": 7426,\n        \"samples\": [\n          \"selamat siang kakak maksud jadwal akhir krl jakarta kotatanjung priok pukul wib info lebih lanjut sila follow mentiondm twitter informasi tambah railmin imbau sahabatkai selalu waspada berhatihati\",\n          \"main sendiri teman aku biasa kalau akhir pekan keluar sendiri kalau gabut kos haha entah krlan ngemall kalau lu gadis ayo kapan kapan main bareng omong aku jaksel jadi sering paling arah jakarta kota doang blm naik tj jadi grup pakai mrt krl\",\n          \"mirage bekas butuh tni butuh pesawat tempur jaga seluruh negeri krl bekas butuh penuh kapasitas jabodetabek samasama prioritas scope nya beda dua kemenhan punya tugas beli krl bekas transum jakarta\"\n        ],\n        \"semantic_type\": \"\",\n        \"description\": \"\"\n      }\n    },\n    {\n      \"column\": \"polarity_score\",\n      \"properties\": {\n        \"dtype\": \"number\",\n        \"std\": 9,\n        \"min\": -58,\n        \"max\": 19,\n        \"num_unique_values\": 74,\n        \"samples\": [\n          -11,\n          -49,\n          1\n        ],\n        \"semantic_type\": \"\",\n        \"description\": \"\"\n      }\n    },\n    {\n      \"column\": \"sentiment\",\n      \"properties\": {\n        \"dtype\": \"category\",\n        \"num_unique_values\": 3,\n        \"samples\": [\n          \"Positif\",\n          \"Negatif\",\n          \"Netral\"\n        ],\n        \"semantic_type\": \"\",\n        \"description\": \"\"\n      }\n    }\n  ]\n}"
            }
          },
          "metadata": {},
          "execution_count": 30
        }
      ]
    },
    {
      "cell_type": "code",
      "source": [
        "# Data for the radar chart\n",
        "categories = ['Positif', 'Netral', 'Negatif']\n",
        "krl_values = data_preprocess_krl['sentiment'].value_counts().reindex(categories, fill_value=0).values.tolist()\n",
        "mrt_values = data_preprocess_mrt['sentiment'].value_counts().reindex(categories, fill_value=0).values.tolist()\n",
        "lrt_values = data_preprocess_lrt['sentiment'].value_counts().reindex(categories, fill_value=0).values.tolist()\n",
        "\n",
        "# Number of variables\n",
        "num_vars = len(categories)\n",
        "\n",
        "# Angle of each axis in the plot\n",
        "angles = np.linspace(0, 2 * np.pi, num_vars, endpoint=False).tolist()\n",
        "\n",
        "# Close the circle\n",
        "krl_values += krl_values[:1]\n",
        "mrt_values += mrt_values[:1]\n",
        "lrt_values += lrt_values[:1]\n",
        "angles += angles[:1]\n",
        "\n",
        "# Create the radar chart\n",
        "fig, ax = plt.subplots(figsize=(6, 6), subplot_kw=dict(polar=True))\n",
        "\n",
        "# Plot the data\n",
        "ax.plot(angles, krl_values, 'o-', linewidth=2, label='KRL')\n",
        "ax.fill(angles, krl_values, alpha=0.25)\n",
        "ax.plot(angles, mrt_values, 'o-', linewidth=2, label='MRT')\n",
        "ax.fill(angles, mrt_values, alpha=0.25)\n",
        "ax.plot(angles, lrt_values, 'o-', linewidth=2, label='LRT')\n",
        "ax.fill(angles, lrt_values, alpha=0.25)\n",
        "\n",
        "# Set the labels for the categories\n",
        "ax.set_xticks(angles[:-1])\n",
        "ax.set_xticklabels(categories)\n",
        "\n",
        "# Add a legend\n",
        "plt.legend(loc='upper right', bbox_to_anchor=(1.3, 1.1))\n",
        "\n",
        "# Add labels with counts\n",
        "for i, (krl_val, mrt_val, lrt_val) in enumerate(zip(krl_values[:-1], mrt_values[:-1], lrt_values[:-1])):\n",
        "    angle_rad = angles[i]\n",
        "    angle_deg = np.degrees(angle_rad)\n",
        "    ax.text(angle_rad, krl_val + 10, str(krl_val), ha='center', va='center')\n",
        "    ax.text(angle_rad, mrt_val + 20, str(mrt_val), ha='center', va='center')\n",
        "    ax.text(angle_rad, lrt_val + 30, str(lrt_val), ha='center', va='center')\n",
        "\n",
        "# Set the title\n",
        "plt.title('Sentiment Distribution')\n",
        "\n",
        "# Show the plot\n",
        "plt.show()"
      ],
      "metadata": {
        "id": "qvOuovkYza0i",
        "colab": {
          "base_uri": "https://localhost:8080/",
          "height": 538
        },
        "outputId": "e23ba39a-37d0-4b24-8009-bdf168c0c999"
      },
      "execution_count": null,
      "outputs": [
        {
          "output_type": "display_data",
          "data": {
            "text/plain": [
              "<Figure size 600x600 with 1 Axes>"
            ],
            "image/png": "[encoded data removed]"
          },
          "metadata": {}
        }
      ]
    },
    {
      "cell_type": "code",
      "source": [
        "from Sastrawi.StopWordRemover.StopWordRemoverFactory import StopWordRemoverFactory\n",
        "\n",
        "# Membuat instance dari StopWordRemoverFactory\n",
        "factory = StopWordRemoverFactory()\n",
        "\n",
        "# Mendapatkan daftar stopwords\n",
        "stopwords = factory.get_stop_words()\n",
        "\n",
        "# Menyimpan daftar stopwords ke dalam list\n",
        "stopwords_list = list(stopwords)\n",
        "\n",
        "# Mencetak daftar stopwords\n",
        "print(stopwords_list)\n"
      ],
      "metadata": {
        "colab": {
          "base_uri": "https://localhost:8080/",
          "height": 395
        },
        "id": "QbeAhTUDxvM2",
        "outputId": "e94ae315-b034-447c-9126-0b5d5cee9062"
      },
      "execution_count": null,
      "outputs": [
        {
          "output_type": "error",
          "ename": "ModuleNotFoundError",
          "evalue": "No module named 'Sastrawi'",
          "traceback": [
            "\u001b[0;31m---------------------------------------------------------------------------\u001b[0m",
            "\u001b[0;31mModuleNotFoundError\u001b[0m                       Traceback (most recent call last)",
            "\u001b[0;32m<ipython-input-29-6dafe8fddf6d>\u001b[0m in \u001b[0;36m<cell line: 1>\u001b[0;34m()\u001b[0m\n\u001b[0;32m----> 1\u001b[0;31m \u001b[0;32mfrom\u001b[0m \u001b[0mSastrawi\u001b[0m\u001b[0;34m.\u001b[0m\u001b[0mStopWordRemover\u001b[0m\u001b[0;34m.\u001b[0m\u001b[0mStopWordRemoverFactory\u001b[0m \u001b[0;32mimport\u001b[0m \u001b[0mStopWordRemoverFactory\u001b[0m\u001b[0;34m\u001b[0m\u001b[0;34m\u001b[0m\u001b[0m\n\u001b[0m\u001b[1;32m      2\u001b[0m \u001b[0;34m\u001b[0m\u001b[0m\n\u001b[1;32m      3\u001b[0m \u001b[0;31m# Membuat instance dari StopWordRemoverFactory\u001b[0m\u001b[0;34m\u001b[0m\u001b[0;34m\u001b[0m\u001b[0m\n\u001b[1;32m      4\u001b[0m \u001b[0mfactory\u001b[0m \u001b[0;34m=\u001b[0m \u001b[0mStopWordRemoverFactory\u001b[0m\u001b[0;34m(\u001b[0m\u001b[0;34m)\u001b[0m\u001b[0;34m\u001b[0m\u001b[0;34m\u001b[0m\u001b[0m\n\u001b[1;32m      5\u001b[0m \u001b[0;34m\u001b[0m\u001b[0m\n",
            "\u001b[0;31mModuleNotFoundError\u001b[0m: No module named 'Sastrawi'",
            "",
            "\u001b[0;31m---------------------------------------------------------------------------\u001b[0;32m\nNOTE: If your import is failing due to a missing package, you can\nmanually install dependencies using either !pip or !apt.\n\nTo view examples of installing some common dependencies, click the\n\"Open Examples\" button below.\n\u001b[0;31m---------------------------------------------------------------------------\u001b[0m\n"
          ],
          "errorDetails": {
            "actions": [
              {
                "action": "open_url",
                "actionText": "Open Examples",
                "url": "/notebooks/snippets/importing_libraries.ipynb"
              }
            ]
          }
        }
      ]
    },
    {
      "cell_type": "code",
      "source": [
        "# prompt: buatkan plot wordcloud untuk dataset data_preprocess_krl pada masing-masing sentimentnya tanpa menyertakan kata 'jakarta', 'krl', 'bogor', 'jabodetabek' dan yang ditampilkan hanya 100 kata saja\n",
        "def plot_wordcloud(data, sentiment, max_words):\n",
        "    words = ' '.join(data[data['sentiment'] == sentiment]['stemming'])\n",
        "    cleaned_word = \" \".join([word for word in words.split()\n",
        "                            if word not in ['jakarta', 'krl', 'bogor', 'jabodetabek', 'mrt', 'lrt', 'aku', 'kakak', 'kamu', 'orang', 'sama']])\n",
        "    wordcloud = WordCloud(stopwords=stopwords_list, max_words=max_words, background_color=\"white\").generate(cleaned_word)\n",
        "    plt.figure(figsize=(8, 4))\n",
        "    plt.imshow(wordcloud, interpolation='bilinear')\n",
        "    plt.axis('off')\n",
        "    plt.title(f'{sentiment} sentiment')\n",
        "    plt.show()\n",
        "\n",
        "plot_wordcloud(data_preprocess_krl, 'Positif', 75)\n",
        "plot_wordcloud(data_preprocess_krl, 'Negatif', 75)\n",
        "plot_wordcloud(data_preprocess_krl, 'Netral', 75)\n"
      ],
      "metadata": {
        "id": "jyMMhrSLqRMb"
      },
      "execution_count": null,
      "outputs": []
    },
    {
      "cell_type": "code",
      "source": [
        "# prompt: buatkan plot wordcloud untuk dataset data_preprocess_krl pada masing-masing sentimentnya tanpa menyertakan kata 'jakarta', 'krl', 'bogor', 'jabodetabek' dan yang ditampilkan hanya 100 kata saja\n",
        "def plot_wordcloud(data, sentiment, max_words):\n",
        "    words = ' '.join(data[data['sentiment'] == sentiment]['stemming'])\n",
        "    cleaned_word = \" \".join([word for word in words.split()\n",
        "                            if word not in ['jakarta', 'krl', 'bogor', 'jabodetabek', 'mrt', 'lrt', 'aku', 'kakak', 'kamu', 'orang', 'sama']])\n",
        "    wordcloud = WordCloud(stopwords=stopwords_list, max_words=max_words, background_color=\"white\").generate(cleaned_word)\n",
        "    plt.figure(figsize=(8, 4))\n",
        "    plt.imshow(wordcloud, interpolation='bilinear')\n",
        "    plt.axis('off')\n",
        "    plt.title(f'{sentiment} sentiment')\n",
        "    plt.show()\n",
        "\n",
        "plot_wordcloud(data_preprocess_mrt, 'Positif', 75)\n",
        "plot_wordcloud(data_preprocess_mrt, 'Negatif', 75)\n",
        "plot_wordcloud(data_preprocess_mrt, 'Netral', 75)\n"
      ],
      "metadata": {
        "id": "k8LLn4row9z8"
      },
      "execution_count": null,
      "outputs": []
    },
    {
      "cell_type": "code",
      "source": [
        "# prompt: buatkan plot wordcloud untuk dataset data_preprocess_krl pada masing-masing sentimentnya tanpa menyertakan kata 'jakarta', 'krl', 'bogor', 'jabodetabek' dan yang ditampilkan hanya 100 kata saja\n",
        "def plot_wordcloud(data, sentiment, max_words):\n",
        "    words = ' '.join(data[data['sentiment'] == sentiment]['stemming'])\n",
        "    cleaned_word = \" \".join([word for word in words.split()\n",
        "                            if word not in ['jakarta', 'krl', 'bogor', 'jabodebek', 'jabodetabek', 'mrt', 'lrt', 'aku', 'kakak', 'kamu', 'orang', 'sama']])\n",
        "    wordcloud = WordCloud(stopwords=stopwords_list, max_words=max_words, background_color=\"white\").generate(cleaned_word)\n",
        "    plt.figure(figsize=(8, 4))\n",
        "    plt.imshow(wordcloud, interpolation='bilinear')\n",
        "    plt.axis('off')\n",
        "    plt.title(f'{sentiment} sentiment')\n",
        "    plt.show()\n",
        "\n",
        "plot_wordcloud(data_preprocess_lrt, 'Positif', 75)\n",
        "plot_wordcloud(data_preprocess_lrt, 'Negatif', 75)\n",
        "plot_wordcloud(data_preprocess_lrt, 'Netral', 75)\n"
      ],
      "metadata": {
        "id": "9uB0p32xxR56"
      },
      "execution_count": null,
      "outputs": []
    },
    {
      "cell_type": "code",
      "source": [
        "data_preprocess_krl.to_csv('/content/drive/MyDrive/Tugas Akhir/Dataset Twitter/Dataset/Data_KRL_Label_Sentiment.csv', index=False)\n",
        "data_preprocess_mrt.to_csv('/content/drive/MyDrive/Tugas Akhir/Dataset Twitter/Dataset/Data_MRT_Label_Sentiment.csv', index=False)\n",
        "data_preprocess_lrt.to_csv('/content/drive/MyDrive/Tugas Akhir/Dataset Twitter/Dataset/Data_LRT_Label_Sentiment.csv', index=False)"
      ],
      "metadata": {
        "id": "clfER7An5dhh"
      },
      "execution_count": null,
      "outputs": []
    },
    {
      "cell_type": "code",
      "source": [],
      "metadata": {
        "id": "zfzwIlLCxw1_"
      },
      "execution_count": null,
      "outputs": []
    }
  ]
}